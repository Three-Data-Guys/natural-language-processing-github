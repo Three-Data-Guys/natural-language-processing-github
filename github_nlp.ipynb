{
 "cells": [
  {
   "cell_type": "markdown",
   "metadata": {},
   "source": [
    "# Github Natural Language Processing\n",
    "\n",
    "#### by Ryan McCall, David Wederstrandt Sr., and Noah Melngailis\n",
    "\n",
    "## Introduction\n",
    "\n",
    "The purpose of this project was to see if we could use the README text of GitHub repos to predict the programming language that is used to program the majority of the repository.\n",
    "\n",
    "We did this by using the most starred repos for JavaScript, Python, Java, and PHP as they are the top four languages on GitHub. We scraped the names of the top 200 repos for each of these languages for a total of 800 name. We then used the GitHub API to bring in the repos main language and readme contents.\n",
    "\n",
    "We then took these files and reduced them down to keywords using text normalization with string methods, unicode conversion, regex substitution, word stemming, and word lemmatization.\n",
    "\n",
    "Next we explored the documents by looking at similarities and differences between them. We looked at the common words shared between the documents and the common words shared by programming languages. We looked at the importance of words in each of the documents and the importance of the words based on the language of the repository. We also looked at the difference in the amount of words used by each of the these languages.\n",
    "\n",
    "We then went on to create a model that used a Decision Tree Classifier to predict the programming language of the repository. We found that the single words used in each README yielded the most accurate model which was able to predict the language of the test set with 75% accuracy.\n",
    "\n",
    "## Project\n",
    "\n",
    "### Imports"
   ]
  },
  {
   "cell_type": "code",
   "execution_count": 16,
   "metadata": {},
   "outputs": [],
   "source": [
    "import pandas as pd\n",
    "\n",
    "import matplotlib.pyplot as plt\n",
    "import seaborn as sns\n",
    "\n",
    "from sklearn.feature_extraction.text import CountVectorizer\n",
    "from sklearn.feature_extraction.text import TfidfVectorizer\n",
    "from sklearn.model_selection import train_test_split\n",
    "from sklearn.tree import DecisionTreeClassifier, export_graphviz\n",
    "from sklearn.metrics import classification_report\n",
    "from sklearn import tree\n",
    "\n",
    "import graphviz\n",
    "from graphviz import Graph\n",
    "\n",
    "from prepare import wrangle_data"
   ]
  },
  {
   "cell_type": "markdown",
   "metadata": {},
   "source": [
    "### Acquire\n",
    "\n",
    "For the acquisition of the data, our acquire.py file starts by scrapping the names of the 200 most starred repos for that had JavaScript, Python, Java, or PHP as their main language. This gave us a list of 800 names that we stored in a .csv file. That was read in by our acquire file and used to make request for the name, main programming language, and README contents of the repositories. This information is then stored in a .json file that can be read into a pandas DataFrame.\n",
    "\n",
    "This is all achieved by running `python acquire.py` in the terminal which creates the repo.csv (repo names) and data.json (repo info) files."
   ]
  },
  {
   "cell_type": "code",
   "execution_count": 3,
   "metadata": {},
   "outputs": [
    {
     "data": {
      "text/html": [
       "<div>\n",
       "<style scoped>\n",
       "    .dataframe tbody tr th:only-of-type {\n",
       "        vertical-align: middle;\n",
       "    }\n",
       "\n",
       "    .dataframe tbody tr th {\n",
       "        vertical-align: top;\n",
       "    }\n",
       "\n",
       "    .dataframe thead th {\n",
       "        text-align: right;\n",
       "    }\n",
       "</style>\n",
       "<table border=\"1\" class=\"dataframe\">\n",
       "  <thead>\n",
       "    <tr style=\"text-align: right;\">\n",
       "      <th></th>\n",
       "      <th>repo</th>\n",
       "      <th>language</th>\n",
       "      <th>readme_contents</th>\n",
       "    </tr>\n",
       "  </thead>\n",
       "  <tbody>\n",
       "    <tr>\n",
       "      <th>0</th>\n",
       "      <td>freeCodeCamp/freeCodeCamp</td>\n",
       "      <td>JavaScript</td>\n",
       "      <td>![freeCodeCamp.org Social Banner](https://s3.a...</td>\n",
       "    </tr>\n",
       "    <tr>\n",
       "      <th>1</th>\n",
       "      <td>vuejs/vue</td>\n",
       "      <td>JavaScript</td>\n",
       "      <td>&lt;p align=\"center\"&gt;&lt;a href=\"https://vuejs.org\" ...</td>\n",
       "    </tr>\n",
       "    <tr>\n",
       "      <th>2</th>\n",
       "      <td>twbs/bootstrap</td>\n",
       "      <td>JavaScript</td>\n",
       "      <td>&lt;p align=\"center\"&gt;\\n  &lt;a href=\"https://getboot...</td>\n",
       "    </tr>\n",
       "    <tr>\n",
       "      <th>3</th>\n",
       "      <td>airbnb/javascript</td>\n",
       "      <td>JavaScript</td>\n",
       "      <td># Airbnb JavaScript Style Guide() {\\n\\n*A most...</td>\n",
       "    </tr>\n",
       "    <tr>\n",
       "      <th>4</th>\n",
       "      <td>d3/d3</td>\n",
       "      <td>JavaScript</td>\n",
       "      <td># D3: Data-Driven Documents\\n\\n&lt;a href=\"https:...</td>\n",
       "    </tr>\n",
       "    <tr>\n",
       "      <th>...</th>\n",
       "      <td>...</td>\n",
       "      <td>...</td>\n",
       "      <td>...</td>\n",
       "    </tr>\n",
       "    <tr>\n",
       "      <th>795</th>\n",
       "      <td>isohuntto/openbay</td>\n",
       "      <td>PHP</td>\n",
       "      <td>Openbay is not supported\\n=======\\n\\nWarm gree...</td>\n",
       "    </tr>\n",
       "    <tr>\n",
       "      <th>796</th>\n",
       "      <td>geocoder-php/Geocoder</td>\n",
       "      <td>PHP</td>\n",
       "      <td>Geocoder\\n========\\n\\n[![Build Status](https:/...</td>\n",
       "    </tr>\n",
       "    <tr>\n",
       "      <th>797</th>\n",
       "      <td>maximebf/php-debugbar</td>\n",
       "      <td>PHP</td>\n",
       "      <td># PHP Debug Bar\\n\\n[![Latest Stable Version](h...</td>\n",
       "    </tr>\n",
       "    <tr>\n",
       "      <th>798</th>\n",
       "      <td>nunomaduro/phpinsights</td>\n",
       "      <td>PHP</td>\n",
       "      <td>&lt;p align=\"center\"&gt;\\n  &lt;img src=\"https://raw.gi...</td>\n",
       "    </tr>\n",
       "    <tr>\n",
       "      <th>799</th>\n",
       "      <td>KnpLabs/snappy</td>\n",
       "      <td>PHP</td>\n",
       "      <td># Snappy\\n\\n[![Travis CI Build Status](https:/...</td>\n",
       "    </tr>\n",
       "  </tbody>\n",
       "</table>\n",
       "<p>800 rows × 3 columns</p>\n",
       "</div>"
      ],
      "text/plain": [
       "                          repo    language  \\\n",
       "0    freeCodeCamp/freeCodeCamp  JavaScript   \n",
       "1                    vuejs/vue  JavaScript   \n",
       "2               twbs/bootstrap  JavaScript   \n",
       "3            airbnb/javascript  JavaScript   \n",
       "4                        d3/d3  JavaScript   \n",
       "..                         ...         ...   \n",
       "795          isohuntto/openbay         PHP   \n",
       "796      geocoder-php/Geocoder         PHP   \n",
       "797      maximebf/php-debugbar         PHP   \n",
       "798     nunomaduro/phpinsights         PHP   \n",
       "799             KnpLabs/snappy         PHP   \n",
       "\n",
       "                                       readme_contents  \n",
       "0    ![freeCodeCamp.org Social Banner](https://s3.a...  \n",
       "1    <p align=\"center\"><a href=\"https://vuejs.org\" ...  \n",
       "2    <p align=\"center\">\\n  <a href=\"https://getboot...  \n",
       "3    # Airbnb JavaScript Style Guide() {\\n\\n*A most...  \n",
       "4    # D3: Data-Driven Documents\\n\\n<a href=\"https:...  \n",
       "..                                                 ...  \n",
       "795  Openbay is not supported\\n=======\\n\\nWarm gree...  \n",
       "796  Geocoder\\n========\\n\\n[![Build Status](https:/...  \n",
       "797  # PHP Debug Bar\\n\\n[![Latest Stable Version](h...  \n",
       "798  <p align=\"center\">\\n  <img src=\"https://raw.gi...  \n",
       "799  # Snappy\\n\\n[![Travis CI Build Status](https:/...  \n",
       "\n",
       "[800 rows x 3 columns]"
      ]
     },
     "execution_count": 3,
     "metadata": {},
     "output_type": "execute_result"
    }
   ],
   "source": [
    "data = pd.read_json('data.json')\n",
    "data"
   ]
  },
  {
   "cell_type": "markdown",
   "metadata": {},
   "source": [
    "### Prepare\n",
    "\n",
    "Now this is what our some of our readme contents look like:"
   ]
  },
  {
   "cell_type": "code",
   "execution_count": 13,
   "metadata": {},
   "outputs": [
    {
     "data": {
      "text/plain": [
       "'<p align=\"center\"><a href=\"https://vuejs.org\" target=\"_blank\" rel=\"noopener noreferrer\"><img width=\"100\" src=\"https://vuejs.org/images/logo.png\" alt=\"Vue logo\"></a></p>\\n\\n<p align=\"center\">\\n  <a href=\"https://circleci.com/gh/vuejs/vue/tree/dev\"><img src=\"https://img.shields.io/circleci/project/github/vuejs/vue/dev.svg?sanitize=true\" alt=\"Build Status\"></a>\\n  <a href=\"https://codecov.io/github/vuejs/vue?branch=dev\"><img src=\"https://img.shields.io/codecov/c/github/vuejs/vue/dev.svg?sanitize=true\" alt=\"Coverage Status\"></a>\\n  <a href=\"https://npmcharts.com/compare/vue?minimal=true\"><img src=\"https://img.shields.io/npm/dm/vue.svg?sanitize=true\" alt=\"Downloads\"></a>\\n  <a href=\"https://www.npmjs.com/package/vue\"><img src=\"https://img.shields.io/npm/v/vue.svg?sanitize=true\" alt=\"Version\"></a>\\n  <a href=\"https://www.npmjs.com/package/vue\"><img src=\"https://img.shields.io/npm/l/vue.svg?sanitize=true\" alt=\"License\"></a>\\n  <a href=\"https://chat.vuejs.org/\"><img src=\"https://img.shields.io/badge/chat-on%20discord-7289da.svg?sanitize=true\" alt=\"Chat\"></a>\\n  <br>\\n  <a href=\"https://app.saucelabs.com/builds/50f8372d79f743a3b25fb6ca4851ca4c\"><img src=\"https://app.saucelabs.com/buildstatus/vuejs\" alt=\"Build Status\"></a>\\n</p>\\n\\n<h2 align=\"center\">Supporting Vue.js</h2>\\n\\nVue.js is an MIT-licensed open source project with its ongoing development made possible entirely by the support of these awesome [backers](https://github.com/vuejs/vue/blob/dev/BACKERS.md). If you\\'d like to join them, please consider:\\n\\n- [Become a backer or sponsor on Patreon](https://www.patreon.com/evanyou).\\n- [Become a backer or sponsor on Open Collective](https://opencollective.com/vuejs).\\n- [One-time donation via PayPal or crypto-currencies.](https://vuejs.org/support-vuejs/#One-time-Donations)\\n\\n#### What\\'s the difference between Patreon and OpenCollective?\\n\\nFunds donated via Patreon go directly to support Evan You\\'s full-time work on Vue.js. Funds donated via OpenCollective are managed with transparent expenses and will be used for compensating work and expenses for core team members or sponsoring community events. Your name/logo will receive proper recognition and exposure by donating on either platform.\\n\\n<h3 align=\"center\">Special Sponsors</h3>\\n<!--special start-->\\n\\n<p align=\"center\">\\n  <a href=\"https://autocode.com\" target=\"_blank\">\\n    <img width=\"260px\" src=\"https://raw.githubusercontent.com/vuejs/vuejs.org/master/themes/vue/source/images/autocode.svg?sanitize=true\">\\n  </a>\\n</p>\\n  \\n<!--special end-->\\n\\n<h3 align=\"center\">Platinum Sponsors</h3>\\n\\n<!--platinum start-->\\n<table>\\n  <tbody>\\n    <tr>\\n      <td align=\"center\" valign=\"middle\">\\n        <a href=\"https://vueschool.io/?utm_source=Vuejs.org&utm_medium=Banner&utm_campaign=Sponsored%20Banner&utm_content=V1\" target=\"_blank\">\\n          <img width=\"222px\" src=\"https://raw.githubusercontent.com/vuejs/vuejs.org/master/themes/vue/source/images/vueschool.png\">\\n        </a>\\n      </td>\\n      <td align=\"center\" valign=\"middle\">\\n        <a href=\"https://vehikl.com/\" target=\"_blank\">\\n          <img width=\"222px\" src=\"https://raw.githubusercontent.com/vuejs/vuejs.org/master/themes/vue/source/images/vehikl.png\">\\n        </a>\\n      </td>\\n      <td align=\"center\" valign=\"middle\">\\n        <a href=\"https://retool.com/?utm_source=sponsor&utm_campaign=vue\" target=\"_blank\">\\n          <img width=\"222px\" src=\"https://raw.githubusercontent.com/vuejs/vuejs.org/master/themes/vue/source/images/retool.png\">\\n        </a>\\n      </td>\\n      <td align=\"center\" valign=\"middle\">\\n        <a href=\"https://passionatepeople.io/\" target=\"_blank\">\\n          <img width=\"222px\" src=\"https://raw.githubusercontent.com/vuejs/vuejs.org/master/themes/vue/source/images/passionate_people.png\">\\n        </a>\\n      </td>\\n    </tr><tr></tr>\\n    <tr>\\n      <td align=\"center\" valign=\"middle\">\\n        <a href=\"https://www.storyblok.com\" target=\"_blank\">\\n          <img width=\"222px\" src=\"https://raw.githubusercontent.com/vuejs/vuejs.org/master/themes/vue/source/images/storyblok.png\">\\n        </a>\\n      </td>\\n    </tr><tr></tr>\\n  </tbody>\\n</table>\\n<!--platinum end-->\\n\\n<!--special-china start-->\\n<h3 align=\"center\">Platinum Sponsors (China)</h3>\\n<table>\\n  <tbody>\\n    <tr>\\n      <td align=\"center\" valign=\"middle\">\\n        <a href=\"http://www.dcloud.io/?hmsr=vuejsorg&hmpl=&hmcu=&hmkw=&hmci=\" target=\"_blank\">\\n          <img width=\"177px\" src=\"https://raw.githubusercontent.com/vuejs/vuejs.org/master/themes/vue/source/images/dcloud.gif\">\\n        </a>\\n      </td>\\n    </tr><tr></tr>\\n  </tbody>\\n</table>\\n<!--special-china end-->\\n\\n<h3 align=\"center\">Gold Sponsors</h3>\\n\\n<!--gold start-->\\n<table>\\n  <tbody>\\n    <tr>\\n      <td align=\"center\" valign=\"middle\">\\n        <a href=\"https://www.vuemastery.com/\" target=\"_blank\">\\n          <img width=\"148px\" src=\"https://raw.githubusercontent.com/vuejs/vuejs.org/master/themes/vue/source/images/vuemastery.png\">\\n        </a>\\n      </td>\\n      <td align=\"center\" valign=\"middle\">\\n        <a href=\"https://laravel.com\" target=\"_blank\">\\n          <img width=\"148px\" src=\"https://raw.githubusercontent.com/vuejs/vuejs.org/master/themes/vue/source/images/laravel.png\">\\n        </a>\\n      </td>\\n      <td align=\"center\" valign=\"middle\">\\n        <a href=\"https://htmlburger.com\" target=\"_blank\">\\n          <img width=\"148px\" src=\"https://raw.githubusercontent.com/vuejs/vuejs.org/master/themes/vue/source/images/html_burger.png\">\\n        </a>\\n      </td>\\n      <td align=\"center\" valign=\"middle\">\\n        <a href=\"https://www.frontenddeveloperlove.com/\" target=\"_blank\">\\n          <img width=\"148px\" src=\"https://raw.githubusercontent.com/vuejs/vuejs.org/master/themes/vue/source/images/frontendlove.png\">\\n        </a>\\n      </td>\\n      <td align=\"center\" valign=\"middle\">\\n        <a href=\"https://onsen.io/vue/\" target=\"_blank\">\\n          <img width=\"148px\" src=\"https://raw.githubusercontent.com/vuejs/vuejs.org/master/themes/vue/source/images/onsen_ui.png\">\\n        </a>\\n      </td>\\n      <td align=\"center\" valign=\"middle\">\\n        <a href=\"https://neds.com.au/\" target=\"_blank\">\\n          <img width=\"148px\" src=\"https://raw.githubusercontent.com/vuejs/vuejs.org/master/themes/vue/source/images/neds.png\">\\n        </a>\\n      </td>\\n    </tr><tr></tr>\\n    <tr>\\n      <td align=\"center\" valign=\"middle\">\\n        <a href=\"https://icons8.com/\" target=\"_blank\">\\n          <img width=\"148px\" src=\"https://raw.githubusercontent.com/vuejs/vuejs.org/master/themes/vue/source/images/icons_8.png\">\\n        </a>\\n      </td>\\n      <td align=\"center\" valign=\"middle\">\\n        <a href=\"https://vuejobs.com/?ref=vuejs\" target=\"_blank\">\\n          <img width=\"148px\" src=\"https://raw.githubusercontent.com/vuejs/vuejs.org/master/themes/vue/source/images/vuejobs.png\">\\n        </a>\\n      </td>\\n      <td align=\"center\" valign=\"middle\">\\n        <a href=\"https://tidelift.com/subscription/npm/vue\" target=\"_blank\">\\n          <img width=\"148px\" src=\"https://raw.githubusercontent.com/vuejs/vuejs.org/master/themes/vue/source/images/tidelift.png\">\\n        </a>\\n      </td>\\n      <td align=\"center\" valign=\"middle\">\\n        <a href=\"https://www.firesticktricks.com/\" target=\"_blank\">\\n          <img width=\"148px\" src=\"https://raw.githubusercontent.com/vuejs/vuejs.org/master/themes/vue/source/images/firestick_tricks.png\">\\n        </a>\\n      </td>\\n      <td align=\"center\" valign=\"middle\">\\n        <a href=\"https://intygrate.com/\" target=\"_blank\">\\n          <img width=\"148px\" src=\"https://raw.githubusercontent.com/vuejs/vuejs.org/master/themes/vue/source/images/intygrate.png\">\\n        </a>\\n      </td>\\n      <td align=\"center\" valign=\"middle\">\\n        <a href=\"http://en.shopware.com/\" target=\"_blank\">\\n          <img width=\"148px\" src=\"https://raw.githubusercontent.com/vuejs/vuejs.org/master/themes/vue/source/images/shopware_ag.png\">\\n        </a>\\n      </td>\\n    </tr><tr></tr>\\n    <tr>\\n      <td align=\"center\" valign=\"middle\">\\n        <a href=\"https://www.vpnranks.com/\" target=\"_blank\">\\n          <img width=\"148px\" src=\"https://raw.githubusercontent.com/vuejs/vuejs.org/master/themes/vue/source/images/vpnranks.png\">\\n        </a>\\n      </td>\\n      <td align=\"center\" valign=\"middle\">\\n        <a href=\"https://www.bestvpn.co/\" target=\"_blank\">\\n          <img width=\"148px\" src=\"https://raw.githubusercontent.com/vuejs/vuejs.org/master/themes/vue/source/images/bestvpn_co.png\">\\n        </a>\\n      </td>\\n      <td align=\"center\" valign=\"middle\">\\n        <a href=\"https://www.y8.com/\" target=\"_blank\">\\n          <img width=\"148px\" src=\"https://raw.githubusercontent.com/vuejs/vuejs.org/master/themes/vue/source/images/y8.png\">\\n        </a>\\n      </td>\\n      <td align=\"center\" valign=\"middle\">\\n        <a href=\"https://js.devexpress.com/\" target=\"_blank\">\\n          <img width=\"148px\" src=\"https://raw.githubusercontent.com/vuejs/vuejs.org/master/themes/vue/source/images/devexpress.png\">\\n        </a>\\n      </td>\\n      <td align=\"center\" valign=\"middle\">\\n        <a href=\"https://fastcoding.jp/javascript/ \" target=\"_blank\">\\n          <img width=\"148px\" src=\"https://raw.githubusercontent.com/vuejs/vuejs.org/master/themes/vue/source/images/fastcoding_inc.svg?sanitize=true\">\\n        </a>\\n      </td>\\n      <td align=\"center\" valign=\"middle\">\\n        <a href=\"https://usave.co.uk/utilities/broadband\" target=\"_blank\">\\n          <img width=\"148px\" src=\"https://raw.githubusercontent.com/vuejs/vuejs.org/master/themes/vue/source/images/usave.png\">\\n        </a>\\n      </td>\\n    </tr><tr></tr>\\n    <tr>\\n      <td align=\"center\" valign=\"middle\">\\n        <a href=\"http://www.pullrequest.com\" target=\"_blank\">\\n          <img width=\"148px\" src=\"https://raw.githubusercontent.com/vuejs/vuejs.org/master/themes/vue/source/images/pullrequest.svg?sanitize=true\">\\n        </a>\\n      </td>\\n      <td align=\"center\" valign=\"middle\">\\n        <a href=\"https://unicorn.io/\" target=\"_blank\">\\n          <img width=\"148px\" src=\"https://raw.githubusercontent.com/vuejs/vuejs.org/master/themes/vue/source/images/unicorn_io.png\">\\n        </a>\\n      </td>\\n      <td align=\"center\" valign=\"middle\">\\n        <a href=\"https://www.vuescreencasts.com/\" target=\"_blank\">\\n          <img width=\"148px\" src=\"https://raw.githubusercontent.com/vuejs/vuejs.org/master/themes/vue/source/images/happy_programmer_llc.png\">\\n        </a>\\n      </td>\\n      <td align=\"center\" valign=\"middle\">\\n        <a href=\"https://www.primefaces.org/primevue\" target=\"_blank\">\\n          <img width=\"148px\" src=\"https://raw.githubusercontent.com/vuejs/vuejs.org/master/themes/vue/source/images/primevue.png\">\\n        </a>\\n      </td>\\n      <td align=\"center\" valign=\"middle\">\\n        <a href=\"https://cooltechzone.com/netflix-vpn\" target=\"_blank\">\\n          <img width=\"148px\" src=\"https://raw.githubusercontent.com/vuejs/vuejs.org/master/themes/vue/source/images/netflix_vpn.png\">\\n        </a>\\n      </td>\\n    </tr><tr></tr>\\n  </tbody>\\n</table>\\n<!--gold end-->\\n\\n<h3 align=\"center\">Sponsors via <a href=\"https://opencollective.com/vuejs\">Open Collective</a></h3>\\n\\n<h4 align=\"center\">Platinum</h4>\\n\\n<a href=\"https://opencollective.com/vuejs/tiers/platinum-sponsors/0/website\" target=\"_blank\" rel=\"noopener noreferrer\"><img src=\"https://opencollective.com/vuejs/tiers/platinum-sponsors/0/avatar.svg?sanitize=true\"></a>\\n<a href=\"https://opencollective.com/vuejs/tiers/platinum-sponsors/1/website\" target=\"_blank\" rel=\"noopener noreferrer\"><img src=\"https://opencollective.com/vuejs/tiers/platinum-sponsors/1/avatar.svg?sanitize=true\"></a>\\n\\n<h4 align=\"center\">Gold</h4>\\n\\n<a href=\"https://opencollective.com/vuejs/tiers/gold-sponsors/0/website\" target=\"_blank\" rel=\"noopener noreferrer\"><img src=\"https://opencollective.com/vuejs/tiers/gold-sponsors/0/avatar.svg?sanitize=true\" height=\"60px\"></a>\\n<a href=\"https://opencollective.com/vuejs/tiers/gold-sponsors/1/website\" target=\"_blank\" rel=\"noopener noreferrer\"><img src=\"https://opencollective.com/vuejs/tiers/gold-sponsors/1/avatar.svg?sanitize=true\" height=\"60px\"></a>\\n<a href=\"https://opencollective.com/vuejs/tiers/gold-sponsors/2/website\" target=\"_blank\" rel=\"noopener noreferrer\"><img src=\"https://opencollective.com/vuejs/tiers/gold-sponsors/2/avatar.svg?sanitize=true\" height=\"60px\"></a>\\n<a href=\"https://opencollective.com/vuejs/tiers/gold-sponsors/3/website\" target=\"_blank\" rel=\"noopener noreferrer\"><img src=\"https://opencollective.com/vuejs/tiers/gold-sponsors/3/avatar.svg?sanitize=true\" height=\"60px\"></a>\\n<a href=\"https://opencollective.com/vuejs/tiers/gold-sponsors/4/website\" target=\"_blank\" rel=\"noopener noreferrer\"><img src=\"https://opencollective.com/vuejs/tiers/gold-sponsors/4/avatar.svg?sanitize=true\" height=\"60px\"></a>\\n\\n---\\n\\n## Introduction\\n\\nVue (pronounced `/vjuː/`, like view) is a **progressive framework** for building user interfaces. It is designed from the ground up to be incrementally adoptable, and can easily scale between a library and a framework depending on different use cases. It consists of an approachable core library that focuses on the view layer only, and an ecosystem of supporting libraries that helps you tackle complexity in large Single-Page Applications.\\n\\n#### Browser Compatibility\\n\\nVue.js supports all browsers that are [ES5-compliant](http://kangax.github.io/compat-table/es5/) (IE8 and below are not supported).\\n\\n## Ecosystem\\n\\n| Project | Status | Description |\\n|---------|--------|-------------|\\n| [vue-router]          | [![vue-router-status]][vue-router-package] | Single-page application routing |\\n| [vuex]                | [![vuex-status]][vuex-package] | Large-scale state management |\\n| [vue-cli]             | [![vue-cli-status]][vue-cli-package] | Project scaffolding |\\n| [vue-loader]          | [![vue-loader-status]][vue-loader-package] | Single File Component (`*.vue` file) loader for webpack |\\n| [vue-server-renderer] | [![vue-server-renderer-status]][vue-server-renderer-package] | Server-side rendering support |\\n| [vue-class-component] | [![vue-class-component-status]][vue-class-component-package] | TypeScript decorator for a class-based API |\\n| [vue-rx]              | [![vue-rx-status]][vue-rx-package] | RxJS integration |\\n| [vue-devtools]        | [![vue-devtools-status]][vue-devtools-package] | Browser DevTools extension |\\n\\n[vue-router]: https://github.com/vuejs/vue-router\\n[vuex]: https://github.com/vuejs/vuex\\n[vue-cli]: https://github.com/vuejs/vue-cli\\n[vue-loader]: https://github.com/vuejs/vue-loader\\n[vue-server-renderer]: https://github.com/vuejs/vue/tree/dev/packages/vue-server-renderer\\n[vue-class-component]: https://github.com/vuejs/vue-class-component\\n[vue-rx]: https://github.com/vuejs/vue-rx\\n[vue-devtools]:  https://github.com/vuejs/vue-devtools\\n\\n[vue-router-status]: https://img.shields.io/npm/v/vue-router.svg\\n[vuex-status]: https://img.shields.io/npm/v/vuex.svg\\n[vue-cli-status]: https://img.shields.io/npm/v/@vue/cli.svg\\n[vue-loader-status]: https://img.shields.io/npm/v/vue-loader.svg\\n[vue-server-renderer-status]: https://img.shields.io/npm/v/vue-server-renderer.svg\\n[vue-class-component-status]: https://img.shields.io/npm/v/vue-class-component.svg\\n[vue-rx-status]: https://img.shields.io/npm/v/vue-rx.svg\\n[vue-devtools-status]: https://img.shields.io/chrome-web-store/v/nhdogjmejiglipccpnnnanhbledajbpd.svg\\n\\n[vue-router-package]: https://npmjs.com/package/vue-router\\n[vuex-package]: https://npmjs.com/package/vuex\\n[vue-cli-package]: https://npmjs.com/package/@vue/cli\\n[vue-loader-package]: https://npmjs.com/package/vue-loader\\n[vue-server-renderer-package]: https://npmjs.com/package/vue-server-renderer\\n[vue-class-component-package]: https://npmjs.com/package/vue-class-component\\n[vue-rx-package]: https://npmjs.com/package/vue-rx\\n[vue-devtools-package]: https://chrome.google.com/webstore/detail/vuejs-devtools/nhdogjmejiglipccpnnnanhbledajbpd\\n\\n## Documentation\\n\\nTo check out [live examples](https://vuejs.org/v2/examples/) and docs, visit [vuejs.org](https://vuejs.org).\\n\\n## Questions\\n\\nFor questions and support please use [the official forum](http://forum.vuejs.org) or [community chat](https://chat.vuejs.org/). The issue list of this repo is **exclusively** for bug reports and feature requests.\\n\\n## Issues\\n\\nPlease make sure to read the [Issue Reporting Checklist](https://github.com/vuejs/vue/blob/dev/.github/CONTRIBUTING.md#issue-reporting-guidelines) before opening an issue. Issues not conforming to the guidelines may be closed immediately.\\n\\n## Changelog\\n\\nDetailed changes for each release are documented in the [release notes](https://github.com/vuejs/vue/releases).\\n\\n## Stay In Touch\\n\\n- [Twitter](https://twitter.com/vuejs)\\n- [Blog](https://medium.com/the-vue-point)\\n- [Job Board](https://vuejobs.com/?ref=vuejs)\\n\\n## Contribution\\n\\nPlease make sure to read the [Contributing Guide](https://github.com/vuejs/vue/blob/dev/.github/CONTRIBUTING.md) before making a pull request. If you have a Vue-related project/component/tool, add it with a pull request to [this curated list](https://github.com/vuejs/awesome-vue)!\\n\\nThank you to all the people who already contributed to Vue!\\n\\n<a href=\"https://github.com/vuejs/vue/graphs/contributors\"><img src=\"https://opencollective.com/vuejs/contributors.svg?width=890\" /></a>\\n\\n\\n## License\\n\\n[MIT](http://opensource.org/licenses/MIT)\\n\\nCopyright (c) 2013-present, Yuxi (Evan) You\\n'"
      ]
     },
     "execution_count": 13,
     "metadata": {},
     "output_type": "execute_result"
    }
   ],
   "source": [
    "data.readme_contents[1]"
   ]
  },
  {
   "cell_type": "markdown",
   "metadata": {},
   "source": [
    "---\n",
    "\n",
    "#### As you may see, there is HTML and Markdown text scattered throught the text that we want to capture. After several cleaning steps the above text was able to be turned into this:"
   ]
  },
  {
   "cell_type": "code",
   "execution_count": 14,
   "metadata": {},
   "outputs": [
    {
     "data": {
      "text/plain": [
       "\"supporting vuejsvuejs mitlicensed open source project ongoing development made possible entirely support awesome backer ' like join please consider become backer sponsor patreon become backer sponsor open collective onetime donation via paypal cryptocurrencies ' difference patreon opencollectivefunds donated via patreon go directly support evan ' fulltime work vuejs fund donated via opencollective managed transparent expense used compensating work expense core team member sponsoring community event namelogo receive proper recognition exposure donating either platformspecial sponsorsplatinum sponsorsplatinum sponsor chinagold sponsorssponsors via open collectiveplatinumgold introductionvue pronounced vju like view progressive framework building user interface designed ground incrementally adoptable easily scale library framework depending different use case consists approachable core library focus view layer ecosystem supporting library help tackle complexity large singlepage application browser compatibilityvuejs support browser es5compliant ie8 supported ecosystem project status description vuerouter vuerouterstatusvuerouterpackage singlepage application routing vuex vuexstatusvuexpackage largescale state management vuecli vueclistatusvueclipackage project scaffolding vueloader vueloaderstatusvueloaderpackage single file component vue file loader webpack vueserverrenderer vueserverrendererstatusvueserverrendererpackage serverside rendering support vueclasscomponent vueclasscomponentstatusvueclasscomponentpackage typescript decorator classbased api vuerx vuerxstatusvuerxpackage rxjs integration vuedevtools vuedevtoolsstatusvuedevtoolspackage browser devtools extension vuerouter vuex vuecli vueloader vueserverrenderer vueclasscomponent vuerx vuedevtoolsvuerouterstatus vuexstatus vueclistatus vueloaderstatus vueserverrendererstatus vueclasscomponentstatus vuerxstatus vuedevtoolsstatus vuerouterpackage vuexpackage vueclipackage vueloaderpackage vueserverrendererpackage vueclasscomponentpackage vuerxpackage vuedevtoolspackage documentationto check live example doc visit vuejsorg questionsfor question support please use official forum community chat issue list repo exclusively bug report feature request issuesplease make sure read issue reporting checklist opening issue issue conforming guideline may closed immediately changelogdetailed change release documented release note stay touch twitter blog job board contributionplease make sure read contributing guide making pull request vuerelated projectcomponenttool add pull request curated listthank people already contributed vue licensemitcopyright c 2013present yuxi evan\""
      ]
     },
     "execution_count": 14,
     "metadata": {},
     "output_type": "execute_result"
    }
   ],
   "source": [
    "df = wrangle_data()\n",
    "df.lemmatized[1]"
   ]
  },
  {
   "cell_type": "markdown",
   "metadata": {},
   "source": [
    "The steps to achieve this are as follows:\n",
    "\n",
    "* First, all html tags (anything between a '<' and '>') were removed.\n",
    "* Next, all urls were removed.\n",
    "* Newline characters and extra spaces were also removed.\n",
    "* Then anything that wasn't alphanumeric was removed.\n",
    "* Next, stopwords (a, an, the, etc.) were removed.\n",
    "* Finally the text was stemmed and lemmatized, each of which was placed in it's own column"
   ]
  },
  {
   "cell_type": "code",
   "execution_count": 15,
   "metadata": {},
   "outputs": [
    {
     "data": {
      "text/html": [
       "<div>\n",
       "<style scoped>\n",
       "    .dataframe tbody tr th:only-of-type {\n",
       "        vertical-align: middle;\n",
       "    }\n",
       "\n",
       "    .dataframe tbody tr th {\n",
       "        vertical-align: top;\n",
       "    }\n",
       "\n",
       "    .dataframe thead th {\n",
       "        text-align: right;\n",
       "    }\n",
       "</style>\n",
       "<table border=\"1\" class=\"dataframe\">\n",
       "  <thead>\n",
       "    <tr style=\"text-align: right;\">\n",
       "      <th></th>\n",
       "      <th>repo</th>\n",
       "      <th>language</th>\n",
       "      <th>readme_contents</th>\n",
       "      <th>stemmed</th>\n",
       "      <th>lemmatized</th>\n",
       "    </tr>\n",
       "  </thead>\n",
       "  <tbody>\n",
       "    <tr>\n",
       "      <th>0</th>\n",
       "      <td>freeCodeCamp/freeCodeCamp</td>\n",
       "      <td>JavaScript</td>\n",
       "      <td>![freeCodeCamp.org Social Banner](https://s3.a...</td>\n",
       "      <td>freecodecamporg social bannerpul request welco...</td>\n",
       "      <td>freecodecamporg social bannerpull request welc...</td>\n",
       "    </tr>\n",
       "    <tr>\n",
       "      <th>1</th>\n",
       "      <td>vuejs/vue</td>\n",
       "      <td>JavaScript</td>\n",
       "      <td>&lt;p align=\"center\"&gt;&lt;a href=\"https://vuejs.org\" ...</td>\n",
       "      <td>support vuejsvuej mitlicens open sourc project...</td>\n",
       "      <td>supporting vuejsvuejs mitlicensed open source ...</td>\n",
       "    </tr>\n",
       "    <tr>\n",
       "      <th>2</th>\n",
       "      <td>twbs/bootstrap</td>\n",
       "      <td>JavaScript</td>\n",
       "      <td>&lt;p align=\"center\"&gt;\\n  &lt;a href=\"https://getboot...</td>\n",
       "      <td>bootstrapsleek intuit power frontend framework...</td>\n",
       "      <td>bootstrapsleek intuitive powerful frontend fra...</td>\n",
       "    </tr>\n",
       "    <tr>\n",
       "      <th>3</th>\n",
       "      <td>airbnb/javascript</td>\n",
       "      <td>JavaScript</td>\n",
       "      <td># Airbnb JavaScript Style Guide() {\\n\\n*A most...</td>\n",
       "      <td>airbnb javascript style guid mostli reason app...</td>\n",
       "      <td>airbnb javascript style guide mostly reasonabl...</td>\n",
       "    </tr>\n",
       "    <tr>\n",
       "      <th>4</th>\n",
       "      <td>d3/d3</td>\n",
       "      <td>JavaScript</td>\n",
       "      <td># D3: Data-Driven Documents\\n\\n&lt;a href=\"https:...</td>\n",
       "      <td>d3 datadriven documentsd3 d3j javascript libra...</td>\n",
       "      <td>d3 datadriven documentsd3 d3js javascript libr...</td>\n",
       "    </tr>\n",
       "    <tr>\n",
       "      <th>...</th>\n",
       "      <td>...</td>\n",
       "      <td>...</td>\n",
       "      <td>...</td>\n",
       "      <td>...</td>\n",
       "      <td>...</td>\n",
       "    </tr>\n",
       "    <tr>\n",
       "      <th>795</th>\n",
       "      <td>isohuntto/openbay</td>\n",
       "      <td>PHP</td>\n",
       "      <td>Openbay is not supported\\n=======\\n\\nWarm gree...</td>\n",
       "      <td>openbay supportedwarm greet guestsisohunt team...</td>\n",
       "      <td>openbay supportedwarm greeting guestsisohunt t...</td>\n",
       "    </tr>\n",
       "    <tr>\n",
       "      <th>796</th>\n",
       "      <td>geocoder-php/Geocoder</td>\n",
       "      <td>PHP</td>\n",
       "      <td>Geocoder\\n========\\n\\n[![Build Status](https:/...</td>\n",
       "      <td>geocoderbuild statussoftwar licenselicens impo...</td>\n",
       "      <td>geocoderbuild statussoftware licenselicense im...</td>\n",
       "    </tr>\n",
       "    <tr>\n",
       "      <th>797</th>\n",
       "      <td>maximebf/php-debugbar</td>\n",
       "      <td>PHP</td>\n",
       "      <td># PHP Debug Bar\\n\\n[![Latest Stable Version](h...</td>\n",
       "      <td>php debug barlatest stabl version total downlo...</td>\n",
       "      <td>php debug barlatest stable version total downl...</td>\n",
       "    </tr>\n",
       "    <tr>\n",
       "      <th>798</th>\n",
       "      <td>nunomaduro/phpinsights</td>\n",
       "      <td>PHP</td>\n",
       "      <td>&lt;p align=\"center\"&gt;\\n  &lt;img src=\"https://raw.gi...</td>\n",
       "      <td>full document visit phpinsightscomphp insight ...</td>\n",
       "      <td>full documentation visit phpinsightscomphp ins...</td>\n",
       "    </tr>\n",
       "    <tr>\n",
       "      <th>799</th>\n",
       "      <td>KnpLabs/snappy</td>\n",
       "      <td>PHP</td>\n",
       "      <td># Snappy\\n\\n[![Travis CI Build Status](https:/...</td>\n",
       "      <td>snappytravi ci build statusappveyor ci build s...</td>\n",
       "      <td>snappytravis ci build statusappveyor ci build ...</td>\n",
       "    </tr>\n",
       "  </tbody>\n",
       "</table>\n",
       "<p>800 rows × 5 columns</p>\n",
       "</div>"
      ],
      "text/plain": [
       "                          repo    language  \\\n",
       "0    freeCodeCamp/freeCodeCamp  JavaScript   \n",
       "1                    vuejs/vue  JavaScript   \n",
       "2               twbs/bootstrap  JavaScript   \n",
       "3            airbnb/javascript  JavaScript   \n",
       "4                        d3/d3  JavaScript   \n",
       "..                         ...         ...   \n",
       "795          isohuntto/openbay         PHP   \n",
       "796      geocoder-php/Geocoder         PHP   \n",
       "797      maximebf/php-debugbar         PHP   \n",
       "798     nunomaduro/phpinsights         PHP   \n",
       "799             KnpLabs/snappy         PHP   \n",
       "\n",
       "                                       readme_contents  \\\n",
       "0    ![freeCodeCamp.org Social Banner](https://s3.a...   \n",
       "1    <p align=\"center\"><a href=\"https://vuejs.org\" ...   \n",
       "2    <p align=\"center\">\\n  <a href=\"https://getboot...   \n",
       "3    # Airbnb JavaScript Style Guide() {\\n\\n*A most...   \n",
       "4    # D3: Data-Driven Documents\\n\\n<a href=\"https:...   \n",
       "..                                                 ...   \n",
       "795  Openbay is not supported\\n=======\\n\\nWarm gree...   \n",
       "796  Geocoder\\n========\\n\\n[![Build Status](https:/...   \n",
       "797  # PHP Debug Bar\\n\\n[![Latest Stable Version](h...   \n",
       "798  <p align=\"center\">\\n  <img src=\"https://raw.gi...   \n",
       "799  # Snappy\\n\\n[![Travis CI Build Status](https:/...   \n",
       "\n",
       "                                               stemmed  \\\n",
       "0    freecodecamporg social bannerpul request welco...   \n",
       "1    support vuejsvuej mitlicens open sourc project...   \n",
       "2    bootstrapsleek intuit power frontend framework...   \n",
       "3    airbnb javascript style guid mostli reason app...   \n",
       "4    d3 datadriven documentsd3 d3j javascript libra...   \n",
       "..                                                 ...   \n",
       "795  openbay supportedwarm greet guestsisohunt team...   \n",
       "796  geocoderbuild statussoftwar licenselicens impo...   \n",
       "797  php debug barlatest stabl version total downlo...   \n",
       "798  full document visit phpinsightscomphp insight ...   \n",
       "799  snappytravi ci build statusappveyor ci build s...   \n",
       "\n",
       "                                            lemmatized  \n",
       "0    freecodecamporg social bannerpull request welc...  \n",
       "1    supporting vuejsvuejs mitlicensed open source ...  \n",
       "2    bootstrapsleek intuitive powerful frontend fra...  \n",
       "3    airbnb javascript style guide mostly reasonabl...  \n",
       "4    d3 datadriven documentsd3 d3js javascript libr...  \n",
       "..                                                 ...  \n",
       "795  openbay supportedwarm greeting guestsisohunt t...  \n",
       "796  geocoderbuild statussoftware licenselicense im...  \n",
       "797  php debug barlatest stable version total downl...  \n",
       "798  full documentation visit phpinsightscomphp ins...  \n",
       "799  snappytravis ci build statusappveyor ci build ...  \n",
       "\n",
       "[800 rows x 5 columns]"
      ]
     },
     "execution_count": 15,
     "metadata": {},
     "output_type": "execute_result"
    }
   ],
   "source": [
    "df"
   ]
  },
  {
   "cell_type": "markdown",
   "metadata": {},
   "source": [
    "### Exploration"
   ]
  },
  {
   "cell_type": "code",
   "execution_count": null,
   "metadata": {},
   "outputs": [],
   "source": []
  },
  {
   "cell_type": "markdown",
   "metadata": {},
   "source": [
    "### Modeling\n",
    "\n",
    "#### Bag of Words Model\n",
    "\n",
    "First we started with a model that uses how often each unique word from all documents appears in each document, also know as a bag of words. We will use the CountVectorizer to create a sparse matrix containing this information. We then split the data and feed the training set into a Decision Tree Classifier with a max depth of 10, which was determined through tuning on the validation set."
   ]
  },
  {
   "cell_type": "code",
   "execution_count": 33,
   "metadata": {},
   "outputs": [
    {
     "name": "stdout",
     "output_type": "stream",
     "text": [
      "Accuracy Score: 83.12%\n"
     ]
    }
   ],
   "source": [
    "cv = CountVectorizer()\n",
    "X = cv.fit_transform(df.lemmatized)\n",
    "y = df.language\n",
    "\n",
    "X_train, X_test, y_train, y_test = train_test_split(X, y, test_size=.2, random_state=13)\n",
    "X_train, X_val, y_train, y_val = train_test_split(X_train, y_train, test_size = .25, random_state=13)\n",
    "\n",
    "tree = DecisionTreeClassifier(max_depth=10, random_state=13)\n",
    "tree.fit(X_train, y_train)\n",
    "\n",
    "print(f'Accuracy Score: {tree.score(X_val, y_val) * 100:.2f}%')"
   ]
  },
  {
   "cell_type": "markdown",
   "metadata": {},
   "source": [
    "We can see that the model has an accuracy for 83% but let's take a deeper look at the model's performance."
   ]
  },
  {
   "cell_type": "code",
   "execution_count": 20,
   "metadata": {},
   "outputs": [
    {
     "name": "stdout",
     "output_type": "stream",
     "text": [
      "              precision    recall  f1-score   support\n",
      "\n",
      "        Java       0.92      0.76      0.83        45\n",
      "  JavaScript       0.75      0.89      0.81        44\n",
      "         PHP       0.86      0.86      0.86        35\n",
      "      Python       0.83      0.83      0.83        36\n",
      "\n",
      "    accuracy                           0.83       160\n",
      "   macro avg       0.84      0.83      0.83       160\n",
      "weighted avg       0.84      0.83      0.83       160\n",
      "\n"
     ]
    }
   ],
   "source": [
    "preds = tree.predict(X_val)\n",
    "print(classification_report(y_val, preds))"
   ]
  },
  {
   "cell_type": "markdown",
   "metadata": {},
   "source": [
    "The main thing we will pay attention to here is the F1 score since it is the weighted mean of the precision and recall. As we can see the F1 score for each of the catagories is very similiar but we can see that the model is slightly better at predicting PHP.\n",
    "\n",
    "Next let's look at the most important words to the model based on feature importance."
   ]
  },
  {
   "cell_type": "code",
   "execution_count": 24,
   "metadata": {},
   "outputs": [
    {
     "data": {
      "text/plain": [
       "python        0.201688\n",
       "php           0.154775\n",
       "npm           0.143184\n",
       "android       0.069025\n",
       "java          0.061912\n",
       "javascript    0.032466\n",
       "dtype: float64"
      ]
     },
     "execution_count": 24,
     "metadata": {},
     "output_type": "execute_result"
    }
   ],
   "source": [
    "pd.Series(dict(zip(cv.get_feature_names(), tree.feature_importances_))).sort_values(ascending=False)[:6]"
   ]
  },
  {
   "cell_type": "markdown",
   "metadata": {},
   "source": [
    "Above we are looking we are looking at the 6 most important words for the model. Notice that the name of each programming language that we are trying to predict appears on this list."
   ]
  },
  {
   "cell_type": "markdown",
   "metadata": {},
   "source": [
    "#### TF-IDF Model\n",
    "\n",
    "Next we will make a model that uses how often the word appears in the document along with how many documents that word appears in, also know as TF-IDF (Term Frequency - Inverse Document Frequency). We will use the TfidfVectorizer to create a sparse matrix containing this information. We then split the data and feed the training set into a Decision Tree Classifier with a max depth of 7, which was determined through tuning on the validation set."
   ]
  },
  {
   "cell_type": "code",
   "execution_count": 34,
   "metadata": {},
   "outputs": [
    {
     "name": "stdout",
     "output_type": "stream",
     "text": [
      "Accuracy Score: 80.62%\n"
     ]
    }
   ],
   "source": [
    "tfidf = TfidfVectorizer()\n",
    "X = tfidf.fit_transform(df.lemmatized)\n",
    "y = df.language\n",
    "\n",
    "X_train, X_test, y_train, y_test = train_test_split(X, y, test_size=.2, random_state=13)\n",
    "X_train, X_val, y_train, y_val = train_test_split(X_train, y_train, test_size = .25, random_state=13)\n",
    "\n",
    "tree = DecisionTreeClassifier(max_depth=7, random_state=13)\n",
    "tree.fit(X_train, y_train)\n",
    "\n",
    "print(f'Accuracy Score: {tree.score(X_val, y_val) * 100:.2f}%')"
   ]
  },
  {
   "cell_type": "markdown",
   "metadata": {},
   "source": [
    "We can see that the model has an accuracy for 80% but let's take a deeper look at the model's performance."
   ]
  },
  {
   "cell_type": "code",
   "execution_count": 35,
   "metadata": {},
   "outputs": [
    {
     "name": "stdout",
     "output_type": "stream",
     "text": [
      "              precision    recall  f1-score   support\n",
      "\n",
      "        Java       0.94      0.69      0.79        45\n",
      "  JavaScript       0.88      0.80      0.83        44\n",
      "         PHP       0.91      0.83      0.87        35\n",
      "      Python       0.62      0.94      0.75        36\n",
      "\n",
      "    accuracy                           0.81       160\n",
      "   macro avg       0.83      0.81      0.81       160\n",
      "weighted avg       0.84      0.81      0.81       160\n",
      "\n"
     ]
    }
   ],
   "source": [
    "preds = tree.predict(X_val)\n",
    "print(classification_report(y_val, preds))"
   ]
  },
  {
   "cell_type": "markdown",
   "metadata": {},
   "source": [
    "Again, let's mainly pay attention to the F1 score here. As we can see the F1 score for each of the catagories is less similiar than before but we can see that this model is still better at predicting PHP but is becoming worse at predicting Python.\n",
    "\n",
    "Next let's look at the most important words to the model based on feature importance."
   ]
  },
  {
   "cell_type": "code",
   "execution_count": 37,
   "metadata": {},
   "outputs": [
    {
     "data": {
      "text/plain": [
       "python        0.260552\n",
       "php           0.189406\n",
       "npm           0.152121\n",
       "android       0.087964\n",
       "java          0.085212\n",
       "javascript    0.044568\n",
       "dtype: float64"
      ]
     },
     "execution_count": 37,
     "metadata": {},
     "output_type": "execute_result"
    }
   ],
   "source": [
    "pd.Series(dict(zip(tfidf.get_feature_names(), tree.feature_importances_))).sort_values(ascending=False)[:6]"
   ]
  },
  {
   "cell_type": "markdown",
   "metadata": {},
   "source": [
    "Above we are again looking we are looking at the 6 most important words for the model. Notice that the name of each programming language that we are trying to predict also appears on this list.\n",
    "\n",
    "### Bag of Bigrams Model\n",
    "\n",
    "Next we will make a model that uses how often a set of 2 words, also known as a bigram, appears in each document. We will use the CountVectorizer again to create a sparse matrix containing this information. We then split the data and feed the training set into a Decision Tree Classifier with a max depth of 16, which was determined through tuning on the validation set."
   ]
  },
  {
   "cell_type": "code",
   "execution_count": 40,
   "metadata": {},
   "outputs": [
    {
     "data": {
      "text/plain": [
       "0.58125"
      ]
     },
     "execution_count": 40,
     "metadata": {},
     "output_type": "execute_result"
    }
   ],
   "source": [
    "cv = CountVectorizer(ngram_range=(2, 2))\n",
    "X = cv.fit_transform(df.lemmatized)\n",
    "y = df.language\n",
    "\n",
    "X_train, X_test, y_train, y_test = train_test_split(X, y, test_size=.2, random_state=13)\n",
    "X_train, X_val, y_train, y_val = train_test_split(X_train, y_train, test_size = .25, random_state=13)\n",
    "\n",
    "tree = DecisionTreeClassifier(max_depth=16, random_state=13)\n",
    "tree.fit(X_train, y_train)\n",
    "\n",
    "print(f'Accuracy Score: {tree.score(X_val, y_val) * 100:.2f}%')"
   ]
  },
  {
   "cell_type": "markdown",
   "metadata": {},
   "source": [
    "We can see that the model has an accuracy for 58% but let's take a deeper look at the model's performance."
   ]
  },
  {
   "cell_type": "code",
   "execution_count": 42,
   "metadata": {},
   "outputs": [
    {
     "name": "stdout",
     "output_type": "stream",
     "text": [
      "              precision    recall  f1-score   support\n",
      "\n",
      "        Java       1.00      0.53      0.70        45\n",
      "  JavaScript       0.70      0.43      0.54        44\n",
      "         PHP       0.35      0.91      0.51        35\n",
      "      Python       1.00      0.50      0.67        36\n",
      "\n",
      "    accuracy                           0.58       160\n",
      "   macro avg       0.76      0.59      0.60       160\n",
      "weighted avg       0.78      0.58      0.60       160\n",
      "\n"
     ]
    }
   ],
   "source": [
    "preds = tree.predict(X_val)\n",
    "print(classification_report(y_val, preds))"
   ]
  },
  {
   "cell_type": "markdown",
   "metadata": {},
   "source": [
    "Again, let's mainly pay attention to the F1 score here. As we can see the F1 score for each of the categories is very different and it does pretty poor on all of them.\n",
    "\n",
    "Next let's look at the most important words to the model based on feature importance."
   ]
  },
  {
   "cell_type": "code",
   "execution_count": 44,
   "metadata": {},
   "outputs": [
    {
     "data": {
      "text/plain": [
       "pip install                      0.218810\n",
       "npm install                      0.112191\n",
       "apache license                   0.103715\n",
       "composer require                 0.049652\n",
       "project test                     0.040399\n",
       "written python                   0.035551\n",
       "spring boot                      0.034574\n",
       "public void                      0.032845\n",
       "google cloud                     0.032004\n",
       "contributingthank considering    0.030175\n",
       "dtype: float64"
      ]
     },
     "execution_count": 44,
     "metadata": {},
     "output_type": "execute_result"
    }
   ],
   "source": [
    "pd.Series(dict(zip(cv.get_feature_names(), tree.feature_importances_))).sort_values(ascending=False)[:10]"
   ]
  },
  {
   "cell_type": "markdown",
   "metadata": {},
   "source": [
    "Above we are looking we are looking at the 10 most important words for the model. Notice that we still see the word python in there but we also see some common commands like pip install and npm install.\n",
    "\n",
    "### Bag of Trigrams Model\n",
    "\n",
    "Lastly we will make a model that uses how often a set of 3 words, also known as a trigram, appears in each document. We will use the CountVectorizer again to create a sparse matrix containing this information. We then split the data and feed the training set into a Decision Tree Classifier with a max depth of 15, which was determined through tuning on the validation set."
   ]
  },
  {
   "cell_type": "code",
   "execution_count": 49,
   "metadata": {},
   "outputs": [
    {
     "name": "stdout",
     "output_type": "stream",
     "text": [
      "Accuracy Score: 43.75%\n"
     ]
    }
   ],
   "source": [
    "cv = CountVectorizer(ngram_range=(3, 3))\n",
    "X = cv.fit_transform(df.lemmatized)\n",
    "y = df.language\n",
    "\n",
    "X_train, X_test, y_train, y_test = train_test_split(X, y, test_size=.2, random_state=13)\n",
    "X_train, X_val, y_train, y_val = train_test_split(X_train, y_train, test_size = .25, random_state=13)\n",
    "\n",
    "tree = DecisionTreeClassifier(max_depth=15, random_state=13)\n",
    "tree.fit(X_train, y_train)\n",
    "\n",
    "print(f'Accuracy Score: {tree.score(X_val, y_val) * 100:.2f}%')"
   ]
  },
  {
   "cell_type": "markdown",
   "metadata": {},
   "source": [
    "We can see that the model has an accuracy for 44% but let's take a deeper look at the model's performance."
   ]
  },
  {
   "cell_type": "code",
   "execution_count": 50,
   "metadata": {},
   "outputs": [
    {
     "name": "stdout",
     "output_type": "stream",
     "text": [
      "              precision    recall  f1-score   support\n",
      "\n",
      "        Java       1.00      0.24      0.39        45\n",
      "  JavaScript       0.33      0.98      0.49        44\n",
      "         PHP       1.00      0.20      0.33        35\n",
      "      Python       0.90      0.25      0.39        36\n",
      "\n",
      "    accuracy                           0.44       160\n",
      "   macro avg       0.81      0.42      0.40       160\n",
      "weighted avg       0.79      0.44      0.41       160\n",
      "\n"
     ]
    }
   ],
   "source": [
    "preds = tree.predict(X_val)\n",
    "print(classification_report(y_val, preds))"
   ]
  },
  {
   "cell_type": "markdown",
   "metadata": {},
   "source": [
    "Again, let's mainly pay attention to the F1 score here. As we can see the F1 score for each of the categories is very different and it does the worst so far on all of them.\n",
    "\n",
    "Next let's look at the most important words to the model based on feature importance.\n",
    "\n",
    "# Best Model\n",
    "\n",
    "So our best model was the model using the bag of words. It had both the best accuracy and the best F1 score for each category. Now let's see how it does on the test data"
   ]
  },
  {
   "cell_type": "code",
   "execution_count": 52,
   "metadata": {},
   "outputs": [
    {
     "name": "stdout",
     "output_type": "stream",
     "text": [
      "Accuracy Score: 83.12%\n"
     ]
    }
   ],
   "source": [
    "cv = CountVectorizer()\n",
    "X = cv.fit_transform(df.lemmatized)\n",
    "y = df.language\n",
    "\n",
    "X_train, X_test, y_train, y_test = train_test_split(X, y, test_size=.2, random_state=13)\n",
    "X_train, X_val, y_train, y_val = train_test_split(X_train, y_train, test_size = .25, random_state=13)\n",
    "\n",
    "tree = DecisionTreeClassifier(max_depth=10, random_state=13)\n",
    "tree.fit(X_train, y_train)\n",
    "\n",
    "print(f'Accuracy Score: {tree.score(X_val, y_val) * 100:.2f}%')"
   ]
  },
  {
   "cell_type": "code",
   "execution_count": 53,
   "metadata": {},
   "outputs": [
    {
     "name": "stdout",
     "output_type": "stream",
     "text": [
      "              precision    recall  f1-score   support\n",
      "\n",
      "        Java       0.79      0.71      0.75        38\n",
      "  JavaScript       0.58      0.80      0.67        40\n",
      "         PHP       0.91      0.81      0.85        36\n",
      "      Python       0.82      0.70      0.75        46\n",
      "\n",
      "    accuracy                           0.75       160\n",
      "   macro avg       0.78      0.75      0.76       160\n",
      "weighted avg       0.77      0.75      0.75       160\n",
      "\n"
     ]
    }
   ],
   "source": [
    "preds = tree.predict(X_test)\n",
    "print(classification_report(y_test, preds))"
   ]
  },
  {
   "cell_type": "markdown",
   "metadata": {},
   "source": [
    "### Below is the code used to generate the Decision Tree Visual found in the repository; `github-prediction-tree.pdf`."
   ]
  },
  {
   "cell_type": "code",
   "execution_count": null,
   "metadata": {},
   "outputs": [],
   "source": [
    "# dot_data = export_graphviz(tree, \n",
    "#                            feature_names= cv.get_feature_names(),\n",
    "#                            class_names= ['Java', 'JavaScript', 'PHP', 'Python'],\n",
    "#                            out_file=None) \n",
    "# graph = graphviz.Source(dot_data) \n",
    "\n",
    "# graph.render('github-prediction-tree', view=True)"
   ]
  }
 ],
 "metadata": {
  "kernelspec": {
   "display_name": "Python 3",
   "language": "python",
   "name": "python3"
  },
  "language_info": {
   "codemirror_mode": {
    "name": "ipython",
    "version": 3
   },
   "file_extension": ".py",
   "mimetype": "text/x-python",
   "name": "python",
   "nbconvert_exporter": "python",
   "pygments_lexer": "ipython3",
   "version": "3.7.4"
  }
 },
 "nbformat": 4,
 "nbformat_minor": 4
}
