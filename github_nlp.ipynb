{
 "cells": [
  {
   "cell_type": "markdown",
   "metadata": {},
   "source": [
    "# Github Natural Language Processing\n",
    "\n",
    "#### by Ryan McCall, David Wederstrandt Sr., and Noah Melngailis\n",
    "\n",
    "## Introduction\n",
    "\n",
    "The purpose of this project was to see if we could use the README text of GitHub repos to predict the programming language that is used to program the majority of the repository.\n",
    "\n",
    "We did this by using the most starred repos for JavaScript, Python, Java, and PHP as they are the top four languages on GitHub. We scraped the names of the top 200 repos for each of these languages for a total of 800 name. We then used the GitHub API to bring in the repos main language and readme contents.\n",
    "\n",
    "We then took these files and reduced them down to keywords using text normalization with string methods, unicode conversion, regex substitution, word stemming, and word lemmatization.\n",
    "\n",
    "Next we explored the documents by looking at similarities and differences between them. We looked at the common words shared between the documents and the common words shared by programming languages. We looked at the importance of words in each of the documents and the importance of the words based on the language of the repository. We also looked at the difference in the amount of words used by each of the these languages.\n",
    "\n",
    "We then went on to create a model that used a Decision Tree Classifier to predict the programming language of the repository. We found that the single words used in each README yielded the most accurate model which was able to predict the language of the test set with 75% accuracy.\n",
    "\n",
    "## Project\n",
    "\n",
    "### Imports"
   ]
  },
  {
   "cell_type": "code",
   "execution_count": 70,
   "metadata": {},
   "outputs": [],
   "source": [
    "import pandas as pd\n",
    "import numpy as np\n",
    "\n",
    "import explore\n",
    "import matplotlib.pyplot as plt\n",
    "import seaborn as sns\n",
    "\n",
    "from sklearn.feature_extraction.text import CountVectorizer\n",
    "from sklearn.feature_extraction.text import TfidfVectorizer\n",
    "from sklearn.model_selection import train_test_split\n",
    "from sklearn.tree import DecisionTreeClassifier, export_graphviz\n",
    "from sklearn.metrics import classification_report\n",
    "from sklearn import tree\n",
    "\n",
    "from wordcloud import WordCloud\n",
    "\n",
    "import graphviz\n",
    "from graphviz import Graph\n",
    "\n",
    "from prepare import wrangle_data\n",
    "import explore\n",
    "import handle_outliers\n",
    "import preprocessing"
   ]
  },
  {
   "cell_type": "markdown",
   "metadata": {},
   "source": [
    "### Acquire\n",
    "\n",
    "For the acquisition of the data, our acquire.py file starts by scrapping the names of the 200 most starred repos for that had JavaScript, Python, Java, or PHP as their main language. This gave us a list of 800 names that we stored in a .csv file. That was read in by our acquire file and used to make request for the name, main programming language, and README contents of the repositories. This information is then stored in a .json file that can be read into a pandas DataFrame.\n",
    "\n",
    "This is all achieved by running `python acquire.py` in the terminal which creates the repo.csv (repo names) and data.json (repo info) files."
   ]
  },
  {
   "cell_type": "code",
   "execution_count": 2,
   "metadata": {},
   "outputs": [
    {
     "data": {
      "text/html": [
       "<div>\n",
       "<style scoped>\n",
       "    .dataframe tbody tr th:only-of-type {\n",
       "        vertical-align: middle;\n",
       "    }\n",
       "\n",
       "    .dataframe tbody tr th {\n",
       "        vertical-align: top;\n",
       "    }\n",
       "\n",
       "    .dataframe thead th {\n",
       "        text-align: right;\n",
       "    }\n",
       "</style>\n",
       "<table border=\"1\" class=\"dataframe\">\n",
       "  <thead>\n",
       "    <tr style=\"text-align: right;\">\n",
       "      <th></th>\n",
       "      <th>repo</th>\n",
       "      <th>language</th>\n",
       "      <th>readme_contents</th>\n",
       "    </tr>\n",
       "  </thead>\n",
       "  <tbody>\n",
       "    <tr>\n",
       "      <th>0</th>\n",
       "      <td>freeCodeCamp/freeCodeCamp</td>\n",
       "      <td>JavaScript</td>\n",
       "      <td>![freeCodeCamp.org Social Banner](https://s3.a...</td>\n",
       "    </tr>\n",
       "    <tr>\n",
       "      <th>1</th>\n",
       "      <td>vuejs/vue</td>\n",
       "      <td>JavaScript</td>\n",
       "      <td>&lt;p align=\"center\"&gt;&lt;a href=\"https://vuejs.org\" ...</td>\n",
       "    </tr>\n",
       "    <tr>\n",
       "      <th>2</th>\n",
       "      <td>twbs/bootstrap</td>\n",
       "      <td>JavaScript</td>\n",
       "      <td>&lt;p align=\"center\"&gt;\\n  &lt;a href=\"https://getboot...</td>\n",
       "    </tr>\n",
       "    <tr>\n",
       "      <th>3</th>\n",
       "      <td>airbnb/javascript</td>\n",
       "      <td>JavaScript</td>\n",
       "      <td># Airbnb JavaScript Style Guide() {\\n\\n*A most...</td>\n",
       "    </tr>\n",
       "    <tr>\n",
       "      <th>4</th>\n",
       "      <td>d3/d3</td>\n",
       "      <td>JavaScript</td>\n",
       "      <td># D3: Data-Driven Documents\\n\\n&lt;a href=\"https:...</td>\n",
       "    </tr>\n",
       "    <tr>\n",
       "      <th>...</th>\n",
       "      <td>...</td>\n",
       "      <td>...</td>\n",
       "      <td>...</td>\n",
       "    </tr>\n",
       "    <tr>\n",
       "      <th>795</th>\n",
       "      <td>isohuntto/openbay</td>\n",
       "      <td>PHP</td>\n",
       "      <td>Openbay is not supported\\n=======\\n\\nWarm gree...</td>\n",
       "    </tr>\n",
       "    <tr>\n",
       "      <th>796</th>\n",
       "      <td>geocoder-php/Geocoder</td>\n",
       "      <td>PHP</td>\n",
       "      <td>Geocoder\\n========\\n\\n[![Build Status](https:/...</td>\n",
       "    </tr>\n",
       "    <tr>\n",
       "      <th>797</th>\n",
       "      <td>maximebf/php-debugbar</td>\n",
       "      <td>PHP</td>\n",
       "      <td># PHP Debug Bar\\n\\n[![Latest Stable Version](h...</td>\n",
       "    </tr>\n",
       "    <tr>\n",
       "      <th>798</th>\n",
       "      <td>nunomaduro/phpinsights</td>\n",
       "      <td>PHP</td>\n",
       "      <td>&lt;p align=\"center\"&gt;\\n  &lt;img src=\"https://raw.gi...</td>\n",
       "    </tr>\n",
       "    <tr>\n",
       "      <th>799</th>\n",
       "      <td>KnpLabs/snappy</td>\n",
       "      <td>PHP</td>\n",
       "      <td># Snappy\\n\\n[![Travis CI Build Status](https:/...</td>\n",
       "    </tr>\n",
       "  </tbody>\n",
       "</table>\n",
       "<p>800 rows × 3 columns</p>\n",
       "</div>"
      ],
      "text/plain": [
       "                          repo    language  \\\n",
       "0    freeCodeCamp/freeCodeCamp  JavaScript   \n",
       "1                    vuejs/vue  JavaScript   \n",
       "2               twbs/bootstrap  JavaScript   \n",
       "3            airbnb/javascript  JavaScript   \n",
       "4                        d3/d3  JavaScript   \n",
       "..                         ...         ...   \n",
       "795          isohuntto/openbay         PHP   \n",
       "796      geocoder-php/Geocoder         PHP   \n",
       "797      maximebf/php-debugbar         PHP   \n",
       "798     nunomaduro/phpinsights         PHP   \n",
       "799             KnpLabs/snappy         PHP   \n",
       "\n",
       "                                       readme_contents  \n",
       "0    ![freeCodeCamp.org Social Banner](https://s3.a...  \n",
       "1    <p align=\"center\"><a href=\"https://vuejs.org\" ...  \n",
       "2    <p align=\"center\">\\n  <a href=\"https://getboot...  \n",
       "3    # Airbnb JavaScript Style Guide() {\\n\\n*A most...  \n",
       "4    # D3: Data-Driven Documents\\n\\n<a href=\"https:...  \n",
       "..                                                 ...  \n",
       "795  Openbay is not supported\\n=======\\n\\nWarm gree...  \n",
       "796  Geocoder\\n========\\n\\n[![Build Status](https:/...  \n",
       "797  # PHP Debug Bar\\n\\n[![Latest Stable Version](h...  \n",
       "798  <p align=\"center\">\\n  <img src=\"https://raw.gi...  \n",
       "799  # Snappy\\n\\n[![Travis CI Build Status](https:/...  \n",
       "\n",
       "[800 rows x 3 columns]"
      ]
     },
     "execution_count": 2,
     "metadata": {},
     "output_type": "execute_result"
    }
   ],
   "source": [
    "data = pd.read_json('data.json')\n",
    "data"
   ]
  },
  {
   "cell_type": "markdown",
   "metadata": {},
   "source": [
    "### Prepare\n",
    "\n",
    "Now this is what our some of our readme contents look like:"
   ]
  },
  {
   "cell_type": "code",
   "execution_count": 3,
   "metadata": {},
   "outputs": [
    {
     "data": {
      "text/plain": [
       "'<p align=\"center\"><a href=\"https://vuejs.org\" target=\"_blank\" rel=\"noopener noreferrer\"><img width=\"100\" src=\"https://vuejs.org/images/logo.png\" alt=\"Vue logo\"></a></p>\\n\\n<p align=\"center\">\\n  <a href=\"https://circleci.com/gh/vuejs/vue/tree/dev\"><img src=\"https://img.shields.io/circleci/project/github/vuejs/vue/dev.svg?sanitize=true\" alt=\"Build Status\"></a>\\n  <a href=\"https://codecov.io/github/vuejs/vue?branch=dev\"><img src=\"https://img.shields.io/codecov/c/github/vuejs/vue/dev.svg?sanitize=true\" alt=\"Coverage Status\"></a>\\n  <a href=\"https://npmcharts.com/compare/vue?minimal=true\"><img src=\"https://img.shields.io/npm/dm/vue.svg?sanitize=true\" alt=\"Downloads\"></a>\\n  <a href=\"https://www.npmjs.com/package/vue\"><img src=\"https://img.shields.io/npm/v/vue.svg?sanitize=true\" alt=\"Version\"></a>\\n  <a href=\"https://www.npmjs.com/package/vue\"><img src=\"https://img.shields.io/npm/l/vue.svg?sanitize=true\" alt=\"License\"></a>\\n  <a href=\"https://chat.vuejs.org/\"><img src=\"https://img.shields.io/badge/chat-on%20discord-7289da.svg?sanitize=true\" alt=\"Chat\"></a>\\n  <br>\\n  <a href=\"https://app.saucelabs.com/builds/50f8372d79f743a3b25fb6ca4851ca4c\"><img src=\"https://app.saucelabs.com/buildstatus/vuejs\" alt=\"Build Status\"></a>\\n</p>\\n\\n<h2 align=\"center\">Supporting Vue.js</h2>\\n\\nVue.js is an MIT-licensed open source project with its ongoing development made possible entirely by the support of these awesome [backers](https://github.com/vuejs/vue/blob/dev/BACKERS.md). If you\\'d like to join them, please consider:\\n\\n- [Become a backer or sponsor on Patreon](https://www.patreon.com/evanyou).\\n- [Become a backer or sponsor on Open Collective](https://opencollective.com/vuejs).\\n- [One-time donation via PayPal or crypto-currencies.](https://vuejs.org/support-vuejs/#One-time-Donations)\\n\\n#### What\\'s the difference between Patreon and OpenCollective?\\n\\nFunds donated via Patreon go directly to support Evan You\\'s full-time work on Vue.js. Funds donated via OpenCollective are managed with transparent expenses and will be used for compensating work and expenses for core team members or sponsoring community events. Your name/logo will receive proper recognition and exposure by donating on either platform.\\n\\n<h3 align=\"center\">Special Sponsors</h3>\\n<!--special start-->\\n\\n<p align=\"center\">\\n  <a href=\"https://autocode.com\" target=\"_blank\">\\n    <img width=\"260px\" src=\"https://raw.githubusercontent.com/vuejs/vuejs.org/master/themes/vue/source/images/autocode.svg?sanitize=true\">\\n  </a>\\n</p>\\n  \\n<!--special end-->\\n\\n<h3 align=\"center\">Platinum Sponsors</h3>\\n\\n<!--platinum start-->\\n<table>\\n  <tbody>\\n    <tr>\\n      <td align=\"center\" valign=\"middle\">\\n        <a href=\"https://vueschool.io/?utm_source=Vuejs.org&utm_medium=Banner&utm_campaign=Sponsored%20Banner&utm_content=V1\" target=\"_blank\">\\n          <img width=\"222px\" src=\"https://raw.githubusercontent.com/vuejs/vuejs.org/master/themes/vue/source/images/vueschool.png\">\\n        </a>\\n      </td>\\n      <td align=\"center\" valign=\"middle\">\\n        <a href=\"https://vehikl.com/\" target=\"_blank\">\\n          <img width=\"222px\" src=\"https://raw.githubusercontent.com/vuejs/vuejs.org/master/themes/vue/source/images/vehikl.png\">\\n        </a>\\n      </td>\\n      <td align=\"center\" valign=\"middle\">\\n        <a href=\"https://retool.com/?utm_source=sponsor&utm_campaign=vue\" target=\"_blank\">\\n          <img width=\"222px\" src=\"https://raw.githubusercontent.com/vuejs/vuejs.org/master/themes/vue/source/images/retool.png\">\\n        </a>\\n      </td>\\n      <td align=\"center\" valign=\"middle\">\\n        <a href=\"https://passionatepeople.io/\" target=\"_blank\">\\n          <img width=\"222px\" src=\"https://raw.githubusercontent.com/vuejs/vuejs.org/master/themes/vue/source/images/passionate_people.png\">\\n        </a>\\n      </td>\\n    </tr><tr></tr>\\n    <tr>\\n      <td align=\"center\" valign=\"middle\">\\n        <a href=\"https://www.storyblok.com\" target=\"_blank\">\\n          <img width=\"222px\" src=\"https://raw.githubusercontent.com/vuejs/vuejs.org/master/themes/vue/source/images/storyblok.png\">\\n        </a>\\n      </td>\\n    </tr><tr></tr>\\n  </tbody>\\n</table>\\n<!--platinum end-->\\n\\n<!--special-china start-->\\n<h3 align=\"center\">Platinum Sponsors (China)</h3>\\n<table>\\n  <tbody>\\n    <tr>\\n      <td align=\"center\" valign=\"middle\">\\n        <a href=\"http://www.dcloud.io/?hmsr=vuejsorg&hmpl=&hmcu=&hmkw=&hmci=\" target=\"_blank\">\\n          <img width=\"177px\" src=\"https://raw.githubusercontent.com/vuejs/vuejs.org/master/themes/vue/source/images/dcloud.gif\">\\n        </a>\\n      </td>\\n    </tr><tr></tr>\\n  </tbody>\\n</table>\\n<!--special-china end-->\\n\\n<h3 align=\"center\">Gold Sponsors</h3>\\n\\n<!--gold start-->\\n<table>\\n  <tbody>\\n    <tr>\\n      <td align=\"center\" valign=\"middle\">\\n        <a href=\"https://www.vuemastery.com/\" target=\"_blank\">\\n          <img width=\"148px\" src=\"https://raw.githubusercontent.com/vuejs/vuejs.org/master/themes/vue/source/images/vuemastery.png\">\\n        </a>\\n      </td>\\n      <td align=\"center\" valign=\"middle\">\\n        <a href=\"https://laravel.com\" target=\"_blank\">\\n          <img width=\"148px\" src=\"https://raw.githubusercontent.com/vuejs/vuejs.org/master/themes/vue/source/images/laravel.png\">\\n        </a>\\n      </td>\\n      <td align=\"center\" valign=\"middle\">\\n        <a href=\"https://htmlburger.com\" target=\"_blank\">\\n          <img width=\"148px\" src=\"https://raw.githubusercontent.com/vuejs/vuejs.org/master/themes/vue/source/images/html_burger.png\">\\n        </a>\\n      </td>\\n      <td align=\"center\" valign=\"middle\">\\n        <a href=\"https://www.frontenddeveloperlove.com/\" target=\"_blank\">\\n          <img width=\"148px\" src=\"https://raw.githubusercontent.com/vuejs/vuejs.org/master/themes/vue/source/images/frontendlove.png\">\\n        </a>\\n      </td>\\n      <td align=\"center\" valign=\"middle\">\\n        <a href=\"https://onsen.io/vue/\" target=\"_blank\">\\n          <img width=\"148px\" src=\"https://raw.githubusercontent.com/vuejs/vuejs.org/master/themes/vue/source/images/onsen_ui.png\">\\n        </a>\\n      </td>\\n      <td align=\"center\" valign=\"middle\">\\n        <a href=\"https://neds.com.au/\" target=\"_blank\">\\n          <img width=\"148px\" src=\"https://raw.githubusercontent.com/vuejs/vuejs.org/master/themes/vue/source/images/neds.png\">\\n        </a>\\n      </td>\\n    </tr><tr></tr>\\n    <tr>\\n      <td align=\"center\" valign=\"middle\">\\n        <a href=\"https://icons8.com/\" target=\"_blank\">\\n          <img width=\"148px\" src=\"https://raw.githubusercontent.com/vuejs/vuejs.org/master/themes/vue/source/images/icons_8.png\">\\n        </a>\\n      </td>\\n      <td align=\"center\" valign=\"middle\">\\n        <a href=\"https://vuejobs.com/?ref=vuejs\" target=\"_blank\">\\n          <img width=\"148px\" src=\"https://raw.githubusercontent.com/vuejs/vuejs.org/master/themes/vue/source/images/vuejobs.png\">\\n        </a>\\n      </td>\\n      <td align=\"center\" valign=\"middle\">\\n        <a href=\"https://tidelift.com/subscription/npm/vue\" target=\"_blank\">\\n          <img width=\"148px\" src=\"https://raw.githubusercontent.com/vuejs/vuejs.org/master/themes/vue/source/images/tidelift.png\">\\n        </a>\\n      </td>\\n      <td align=\"center\" valign=\"middle\">\\n        <a href=\"https://www.firesticktricks.com/\" target=\"_blank\">\\n          <img width=\"148px\" src=\"https://raw.githubusercontent.com/vuejs/vuejs.org/master/themes/vue/source/images/firestick_tricks.png\">\\n        </a>\\n      </td>\\n      <td align=\"center\" valign=\"middle\">\\n        <a href=\"https://intygrate.com/\" target=\"_blank\">\\n          <img width=\"148px\" src=\"https://raw.githubusercontent.com/vuejs/vuejs.org/master/themes/vue/source/images/intygrate.png\">\\n        </a>\\n      </td>\\n      <td align=\"center\" valign=\"middle\">\\n        <a href=\"http://en.shopware.com/\" target=\"_blank\">\\n          <img width=\"148px\" src=\"https://raw.githubusercontent.com/vuejs/vuejs.org/master/themes/vue/source/images/shopware_ag.png\">\\n        </a>\\n      </td>\\n    </tr><tr></tr>\\n    <tr>\\n      <td align=\"center\" valign=\"middle\">\\n        <a href=\"https://www.vpnranks.com/\" target=\"_blank\">\\n          <img width=\"148px\" src=\"https://raw.githubusercontent.com/vuejs/vuejs.org/master/themes/vue/source/images/vpnranks.png\">\\n        </a>\\n      </td>\\n      <td align=\"center\" valign=\"middle\">\\n        <a href=\"https://www.bestvpn.co/\" target=\"_blank\">\\n          <img width=\"148px\" src=\"https://raw.githubusercontent.com/vuejs/vuejs.org/master/themes/vue/source/images/bestvpn_co.png\">\\n        </a>\\n      </td>\\n      <td align=\"center\" valign=\"middle\">\\n        <a href=\"https://www.y8.com/\" target=\"_blank\">\\n          <img width=\"148px\" src=\"https://raw.githubusercontent.com/vuejs/vuejs.org/master/themes/vue/source/images/y8.png\">\\n        </a>\\n      </td>\\n      <td align=\"center\" valign=\"middle\">\\n        <a href=\"https://js.devexpress.com/\" target=\"_blank\">\\n          <img width=\"148px\" src=\"https://raw.githubusercontent.com/vuejs/vuejs.org/master/themes/vue/source/images/devexpress.png\">\\n        </a>\\n      </td>\\n      <td align=\"center\" valign=\"middle\">\\n        <a href=\"https://fastcoding.jp/javascript/ \" target=\"_blank\">\\n          <img width=\"148px\" src=\"https://raw.githubusercontent.com/vuejs/vuejs.org/master/themes/vue/source/images/fastcoding_inc.svg?sanitize=true\">\\n        </a>\\n      </td>\\n      <td align=\"center\" valign=\"middle\">\\n        <a href=\"https://usave.co.uk/utilities/broadband\" target=\"_blank\">\\n          <img width=\"148px\" src=\"https://raw.githubusercontent.com/vuejs/vuejs.org/master/themes/vue/source/images/usave.png\">\\n        </a>\\n      </td>\\n    </tr><tr></tr>\\n    <tr>\\n      <td align=\"center\" valign=\"middle\">\\n        <a href=\"http://www.pullrequest.com\" target=\"_blank\">\\n          <img width=\"148px\" src=\"https://raw.githubusercontent.com/vuejs/vuejs.org/master/themes/vue/source/images/pullrequest.svg?sanitize=true\">\\n        </a>\\n      </td>\\n      <td align=\"center\" valign=\"middle\">\\n        <a href=\"https://unicorn.io/\" target=\"_blank\">\\n          <img width=\"148px\" src=\"https://raw.githubusercontent.com/vuejs/vuejs.org/master/themes/vue/source/images/unicorn_io.png\">\\n        </a>\\n      </td>\\n      <td align=\"center\" valign=\"middle\">\\n        <a href=\"https://www.vuescreencasts.com/\" target=\"_blank\">\\n          <img width=\"148px\" src=\"https://raw.githubusercontent.com/vuejs/vuejs.org/master/themes/vue/source/images/happy_programmer_llc.png\">\\n        </a>\\n      </td>\\n      <td align=\"center\" valign=\"middle\">\\n        <a href=\"https://www.primefaces.org/primevue\" target=\"_blank\">\\n          <img width=\"148px\" src=\"https://raw.githubusercontent.com/vuejs/vuejs.org/master/themes/vue/source/images/primevue.png\">\\n        </a>\\n      </td>\\n      <td align=\"center\" valign=\"middle\">\\n        <a href=\"https://cooltechzone.com/netflix-vpn\" target=\"_blank\">\\n          <img width=\"148px\" src=\"https://raw.githubusercontent.com/vuejs/vuejs.org/master/themes/vue/source/images/netflix_vpn.png\">\\n        </a>\\n      </td>\\n    </tr><tr></tr>\\n  </tbody>\\n</table>\\n<!--gold end-->\\n\\n<h3 align=\"center\">Sponsors via <a href=\"https://opencollective.com/vuejs\">Open Collective</a></h3>\\n\\n<h4 align=\"center\">Platinum</h4>\\n\\n<a href=\"https://opencollective.com/vuejs/tiers/platinum-sponsors/0/website\" target=\"_blank\" rel=\"noopener noreferrer\"><img src=\"https://opencollective.com/vuejs/tiers/platinum-sponsors/0/avatar.svg?sanitize=true\"></a>\\n<a href=\"https://opencollective.com/vuejs/tiers/platinum-sponsors/1/website\" target=\"_blank\" rel=\"noopener noreferrer\"><img src=\"https://opencollective.com/vuejs/tiers/platinum-sponsors/1/avatar.svg?sanitize=true\"></a>\\n\\n<h4 align=\"center\">Gold</h4>\\n\\n<a href=\"https://opencollective.com/vuejs/tiers/gold-sponsors/0/website\" target=\"_blank\" rel=\"noopener noreferrer\"><img src=\"https://opencollective.com/vuejs/tiers/gold-sponsors/0/avatar.svg?sanitize=true\" height=\"60px\"></a>\\n<a href=\"https://opencollective.com/vuejs/tiers/gold-sponsors/1/website\" target=\"_blank\" rel=\"noopener noreferrer\"><img src=\"https://opencollective.com/vuejs/tiers/gold-sponsors/1/avatar.svg?sanitize=true\" height=\"60px\"></a>\\n<a href=\"https://opencollective.com/vuejs/tiers/gold-sponsors/2/website\" target=\"_blank\" rel=\"noopener noreferrer\"><img src=\"https://opencollective.com/vuejs/tiers/gold-sponsors/2/avatar.svg?sanitize=true\" height=\"60px\"></a>\\n<a href=\"https://opencollective.com/vuejs/tiers/gold-sponsors/3/website\" target=\"_blank\" rel=\"noopener noreferrer\"><img src=\"https://opencollective.com/vuejs/tiers/gold-sponsors/3/avatar.svg?sanitize=true\" height=\"60px\"></a>\\n<a href=\"https://opencollective.com/vuejs/tiers/gold-sponsors/4/website\" target=\"_blank\" rel=\"noopener noreferrer\"><img src=\"https://opencollective.com/vuejs/tiers/gold-sponsors/4/avatar.svg?sanitize=true\" height=\"60px\"></a>\\n\\n---\\n\\n## Introduction\\n\\nVue (pronounced `/vjuː/`, like view) is a **progressive framework** for building user interfaces. It is designed from the ground up to be incrementally adoptable, and can easily scale between a library and a framework depending on different use cases. It consists of an approachable core library that focuses on the view layer only, and an ecosystem of supporting libraries that helps you tackle complexity in large Single-Page Applications.\\n\\n#### Browser Compatibility\\n\\nVue.js supports all browsers that are [ES5-compliant](http://kangax.github.io/compat-table/es5/) (IE8 and below are not supported).\\n\\n## Ecosystem\\n\\n| Project | Status | Description |\\n|---------|--------|-------------|\\n| [vue-router]          | [![vue-router-status]][vue-router-package] | Single-page application routing |\\n| [vuex]                | [![vuex-status]][vuex-package] | Large-scale state management |\\n| [vue-cli]             | [![vue-cli-status]][vue-cli-package] | Project scaffolding |\\n| [vue-loader]          | [![vue-loader-status]][vue-loader-package] | Single File Component (`*.vue` file) loader for webpack |\\n| [vue-server-renderer] | [![vue-server-renderer-status]][vue-server-renderer-package] | Server-side rendering support |\\n| [vue-class-component] | [![vue-class-component-status]][vue-class-component-package] | TypeScript decorator for a class-based API |\\n| [vue-rx]              | [![vue-rx-status]][vue-rx-package] | RxJS integration |\\n| [vue-devtools]        | [![vue-devtools-status]][vue-devtools-package] | Browser DevTools extension |\\n\\n[vue-router]: https://github.com/vuejs/vue-router\\n[vuex]: https://github.com/vuejs/vuex\\n[vue-cli]: https://github.com/vuejs/vue-cli\\n[vue-loader]: https://github.com/vuejs/vue-loader\\n[vue-server-renderer]: https://github.com/vuejs/vue/tree/dev/packages/vue-server-renderer\\n[vue-class-component]: https://github.com/vuejs/vue-class-component\\n[vue-rx]: https://github.com/vuejs/vue-rx\\n[vue-devtools]:  https://github.com/vuejs/vue-devtools\\n\\n[vue-router-status]: https://img.shields.io/npm/v/vue-router.svg\\n[vuex-status]: https://img.shields.io/npm/v/vuex.svg\\n[vue-cli-status]: https://img.shields.io/npm/v/@vue/cli.svg\\n[vue-loader-status]: https://img.shields.io/npm/v/vue-loader.svg\\n[vue-server-renderer-status]: https://img.shields.io/npm/v/vue-server-renderer.svg\\n[vue-class-component-status]: https://img.shields.io/npm/v/vue-class-component.svg\\n[vue-rx-status]: https://img.shields.io/npm/v/vue-rx.svg\\n[vue-devtools-status]: https://img.shields.io/chrome-web-store/v/nhdogjmejiglipccpnnnanhbledajbpd.svg\\n\\n[vue-router-package]: https://npmjs.com/package/vue-router\\n[vuex-package]: https://npmjs.com/package/vuex\\n[vue-cli-package]: https://npmjs.com/package/@vue/cli\\n[vue-loader-package]: https://npmjs.com/package/vue-loader\\n[vue-server-renderer-package]: https://npmjs.com/package/vue-server-renderer\\n[vue-class-component-package]: https://npmjs.com/package/vue-class-component\\n[vue-rx-package]: https://npmjs.com/package/vue-rx\\n[vue-devtools-package]: https://chrome.google.com/webstore/detail/vuejs-devtools/nhdogjmejiglipccpnnnanhbledajbpd\\n\\n## Documentation\\n\\nTo check out [live examples](https://vuejs.org/v2/examples/) and docs, visit [vuejs.org](https://vuejs.org).\\n\\n## Questions\\n\\nFor questions and support please use [the official forum](http://forum.vuejs.org) or [community chat](https://chat.vuejs.org/). The issue list of this repo is **exclusively** for bug reports and feature requests.\\n\\n## Issues\\n\\nPlease make sure to read the [Issue Reporting Checklist](https://github.com/vuejs/vue/blob/dev/.github/CONTRIBUTING.md#issue-reporting-guidelines) before opening an issue. Issues not conforming to the guidelines may be closed immediately.\\n\\n## Changelog\\n\\nDetailed changes for each release are documented in the [release notes](https://github.com/vuejs/vue/releases).\\n\\n## Stay In Touch\\n\\n- [Twitter](https://twitter.com/vuejs)\\n- [Blog](https://medium.com/the-vue-point)\\n- [Job Board](https://vuejobs.com/?ref=vuejs)\\n\\n## Contribution\\n\\nPlease make sure to read the [Contributing Guide](https://github.com/vuejs/vue/blob/dev/.github/CONTRIBUTING.md) before making a pull request. If you have a Vue-related project/component/tool, add it with a pull request to [this curated list](https://github.com/vuejs/awesome-vue)!\\n\\nThank you to all the people who already contributed to Vue!\\n\\n<a href=\"https://github.com/vuejs/vue/graphs/contributors\"><img src=\"https://opencollective.com/vuejs/contributors.svg?width=890\" /></a>\\n\\n\\n## License\\n\\n[MIT](http://opensource.org/licenses/MIT)\\n\\nCopyright (c) 2013-present, Yuxi (Evan) You\\n'"
      ]
     },
     "execution_count": 3,
     "metadata": {},
     "output_type": "execute_result"
    }
   ],
   "source": [
    "data.readme_contents[1]"
   ]
  },
  {
   "cell_type": "markdown",
   "metadata": {},
   "source": [
    "---\n",
    "\n",
    "#### As you may see, there is HTML and Markdown text scattered throught the text that we want to capture. After several cleaning steps the above text was able to be turned into this:"
   ]
  },
  {
   "cell_type": "code",
   "execution_count": 4,
   "metadata": {},
   "outputs": [
    {
     "data": {
      "text/plain": [
       "\"supporting vuejsvuejs mitlicensed open source project ongoing development made possible entirely support awesome backer ' like join please consider become backer sponsor patreon become backer sponsor open collective onetime donation via paypal cryptocurrencies ' difference patreon opencollectivefunds donated via patreon go directly support evan ' fulltime work vuejs fund donated via opencollective managed transparent expense used compensating work expense core team member sponsoring community event namelogo receive proper recognition exposure donating either platformspecial sponsorsplatinum sponsorsplatinum sponsor chinagold sponsorssponsors via open collectiveplatinumgold introductionvue pronounced vju like view progressive framework building user interface designed ground incrementally adoptable easily scale library framework depending different use case consists approachable core library focus view layer ecosystem supporting library help tackle complexity large singlepage application browser compatibilityvuejs support browser es5compliant ie8 supported ecosystem project status description vuerouter vuerouterstatusvuerouterpackage singlepage application routing vuex vuexstatusvuexpackage largescale state management vuecli vueclistatusvueclipackage project scaffolding vueloader vueloaderstatusvueloaderpackage single file component vue file loader webpack vueserverrenderer vueserverrendererstatusvueserverrendererpackage serverside rendering support vueclasscomponent vueclasscomponentstatusvueclasscomponentpackage typescript decorator classbased api vuerx vuerxstatusvuerxpackage rxjs integration vuedevtools vuedevtoolsstatusvuedevtoolspackage browser devtools extension vuerouter vuex vuecli vueloader vueserverrenderer vueclasscomponent vuerx vuedevtoolsvuerouterstatus vuexstatus vueclistatus vueloaderstatus vueserverrendererstatus vueclasscomponentstatus vuerxstatus vuedevtoolsstatus vuerouterpackage vuexpackage vueclipackage vueloaderpackage vueserverrendererpackage vueclasscomponentpackage vuerxpackage vuedevtoolspackage documentationto check live example doc visit vuejsorg questionsfor question support please use official forum community chat issue list repo exclusively bug report feature request issuesplease make sure read issue reporting checklist opening issue issue conforming guideline may closed immediately changelogdetailed change release documented release note stay touch twitter blog job board contributionplease make sure read contributing guide making pull request vuerelated projectcomponenttool add pull request curated listthank people already contributed vue licensemitcopyright c 2013present yuxi evan\""
      ]
     },
     "execution_count": 4,
     "metadata": {},
     "output_type": "execute_result"
    }
   ],
   "source": [
    "df = wrangle_data()\n",
    "df.lemmatized[1]"
   ]
  },
  {
   "cell_type": "markdown",
   "metadata": {},
   "source": [
    "The steps to achieve this are as follows:\n",
    "\n",
    "* First, all html tags (anything between a '<' and '>') were removed.\n",
    "* Next, all urls were removed.\n",
    "* Newline characters and extra spaces were also removed.\n",
    "* Then anything that wasn't alphanumeric was removed.\n",
    "* Next, stopwords (a, an, the, etc.) were removed.\n",
    "* Finally the text was stemmed and lemmatized, each of which was placed in it's own column"
   ]
  },
  {
   "cell_type": "code",
   "execution_count": 5,
   "metadata": {},
   "outputs": [
    {
     "data": {
      "text/html": [
       "<div>\n",
       "<style scoped>\n",
       "    .dataframe tbody tr th:only-of-type {\n",
       "        vertical-align: middle;\n",
       "    }\n",
       "\n",
       "    .dataframe tbody tr th {\n",
       "        vertical-align: top;\n",
       "    }\n",
       "\n",
       "    .dataframe thead th {\n",
       "        text-align: right;\n",
       "    }\n",
       "</style>\n",
       "<table border=\"1\" class=\"dataframe\">\n",
       "  <thead>\n",
       "    <tr style=\"text-align: right;\">\n",
       "      <th></th>\n",
       "      <th>repo</th>\n",
       "      <th>language</th>\n",
       "      <th>readme_contents</th>\n",
       "      <th>stemmed</th>\n",
       "      <th>lemmatized</th>\n",
       "    </tr>\n",
       "  </thead>\n",
       "  <tbody>\n",
       "    <tr>\n",
       "      <th>0</th>\n",
       "      <td>freeCodeCamp/freeCodeCamp</td>\n",
       "      <td>JavaScript</td>\n",
       "      <td>![freeCodeCamp.org Social Banner](https://s3.a...</td>\n",
       "      <td>freecodecamporg social bannerpul request welco...</td>\n",
       "      <td>freecodecamporg social bannerpull request welc...</td>\n",
       "    </tr>\n",
       "    <tr>\n",
       "      <th>1</th>\n",
       "      <td>vuejs/vue</td>\n",
       "      <td>JavaScript</td>\n",
       "      <td>&lt;p align=\"center\"&gt;&lt;a href=\"https://vuejs.org\" ...</td>\n",
       "      <td>support vuejsvuej mitlicens open sourc project...</td>\n",
       "      <td>supporting vuejsvuejs mitlicensed open source ...</td>\n",
       "    </tr>\n",
       "    <tr>\n",
       "      <th>2</th>\n",
       "      <td>twbs/bootstrap</td>\n",
       "      <td>JavaScript</td>\n",
       "      <td>&lt;p align=\"center\"&gt;\\n  &lt;a href=\"https://getboot...</td>\n",
       "      <td>bootstrapsleek intuit power frontend framework...</td>\n",
       "      <td>bootstrapsleek intuitive powerful frontend fra...</td>\n",
       "    </tr>\n",
       "    <tr>\n",
       "      <th>3</th>\n",
       "      <td>airbnb/javascript</td>\n",
       "      <td>JavaScript</td>\n",
       "      <td># Airbnb JavaScript Style Guide() {\\n\\n*A most...</td>\n",
       "      <td>airbnb javascript style guid mostli reason app...</td>\n",
       "      <td>airbnb javascript style guide mostly reasonabl...</td>\n",
       "    </tr>\n",
       "    <tr>\n",
       "      <th>4</th>\n",
       "      <td>d3/d3</td>\n",
       "      <td>JavaScript</td>\n",
       "      <td># D3: Data-Driven Documents\\n\\n&lt;a href=\"https:...</td>\n",
       "      <td>d3 datadriven documentsd3 d3j javascript libra...</td>\n",
       "      <td>d3 datadriven documentsd3 d3js javascript libr...</td>\n",
       "    </tr>\n",
       "    <tr>\n",
       "      <th>...</th>\n",
       "      <td>...</td>\n",
       "      <td>...</td>\n",
       "      <td>...</td>\n",
       "      <td>...</td>\n",
       "      <td>...</td>\n",
       "    </tr>\n",
       "    <tr>\n",
       "      <th>795</th>\n",
       "      <td>isohuntto/openbay</td>\n",
       "      <td>PHP</td>\n",
       "      <td>Openbay is not supported\\n=======\\n\\nWarm gree...</td>\n",
       "      <td>openbay supportedwarm greet guestsisohunt team...</td>\n",
       "      <td>openbay supportedwarm greeting guestsisohunt t...</td>\n",
       "    </tr>\n",
       "    <tr>\n",
       "      <th>796</th>\n",
       "      <td>geocoder-php/Geocoder</td>\n",
       "      <td>PHP</td>\n",
       "      <td>Geocoder\\n========\\n\\n[![Build Status](https:/...</td>\n",
       "      <td>geocoderbuild statussoftwar licenselicens impo...</td>\n",
       "      <td>geocoderbuild statussoftware licenselicense im...</td>\n",
       "    </tr>\n",
       "    <tr>\n",
       "      <th>797</th>\n",
       "      <td>maximebf/php-debugbar</td>\n",
       "      <td>PHP</td>\n",
       "      <td># PHP Debug Bar\\n\\n[![Latest Stable Version](h...</td>\n",
       "      <td>php debug barlatest stabl version total downlo...</td>\n",
       "      <td>php debug barlatest stable version total downl...</td>\n",
       "    </tr>\n",
       "    <tr>\n",
       "      <th>798</th>\n",
       "      <td>nunomaduro/phpinsights</td>\n",
       "      <td>PHP</td>\n",
       "      <td>&lt;p align=\"center\"&gt;\\n  &lt;img src=\"https://raw.gi...</td>\n",
       "      <td>full document visit phpinsightscomphp insight ...</td>\n",
       "      <td>full documentation visit phpinsightscomphp ins...</td>\n",
       "    </tr>\n",
       "    <tr>\n",
       "      <th>799</th>\n",
       "      <td>KnpLabs/snappy</td>\n",
       "      <td>PHP</td>\n",
       "      <td># Snappy\\n\\n[![Travis CI Build Status](https:/...</td>\n",
       "      <td>snappytravi ci build statusappveyor ci build s...</td>\n",
       "      <td>snappytravis ci build statusappveyor ci build ...</td>\n",
       "    </tr>\n",
       "  </tbody>\n",
       "</table>\n",
       "<p>800 rows × 5 columns</p>\n",
       "</div>"
      ],
      "text/plain": [
       "                          repo    language  \\\n",
       "0    freeCodeCamp/freeCodeCamp  JavaScript   \n",
       "1                    vuejs/vue  JavaScript   \n",
       "2               twbs/bootstrap  JavaScript   \n",
       "3            airbnb/javascript  JavaScript   \n",
       "4                        d3/d3  JavaScript   \n",
       "..                         ...         ...   \n",
       "795          isohuntto/openbay         PHP   \n",
       "796      geocoder-php/Geocoder         PHP   \n",
       "797      maximebf/php-debugbar         PHP   \n",
       "798     nunomaduro/phpinsights         PHP   \n",
       "799             KnpLabs/snappy         PHP   \n",
       "\n",
       "                                       readme_contents  \\\n",
       "0    ![freeCodeCamp.org Social Banner](https://s3.a...   \n",
       "1    <p align=\"center\"><a href=\"https://vuejs.org\" ...   \n",
       "2    <p align=\"center\">\\n  <a href=\"https://getboot...   \n",
       "3    # Airbnb JavaScript Style Guide() {\\n\\n*A most...   \n",
       "4    # D3: Data-Driven Documents\\n\\n<a href=\"https:...   \n",
       "..                                                 ...   \n",
       "795  Openbay is not supported\\n=======\\n\\nWarm gree...   \n",
       "796  Geocoder\\n========\\n\\n[![Build Status](https:/...   \n",
       "797  # PHP Debug Bar\\n\\n[![Latest Stable Version](h...   \n",
       "798  <p align=\"center\">\\n  <img src=\"https://raw.gi...   \n",
       "799  # Snappy\\n\\n[![Travis CI Build Status](https:/...   \n",
       "\n",
       "                                               stemmed  \\\n",
       "0    freecodecamporg social bannerpul request welco...   \n",
       "1    support vuejsvuej mitlicens open sourc project...   \n",
       "2    bootstrapsleek intuit power frontend framework...   \n",
       "3    airbnb javascript style guid mostli reason app...   \n",
       "4    d3 datadriven documentsd3 d3j javascript libra...   \n",
       "..                                                 ...   \n",
       "795  openbay supportedwarm greet guestsisohunt team...   \n",
       "796  geocoderbuild statussoftwar licenselicens impo...   \n",
       "797  php debug barlatest stabl version total downlo...   \n",
       "798  full document visit phpinsightscomphp insight ...   \n",
       "799  snappytravi ci build statusappveyor ci build s...   \n",
       "\n",
       "                                            lemmatized  \n",
       "0    freecodecamporg social bannerpull request welc...  \n",
       "1    supporting vuejsvuejs mitlicensed open source ...  \n",
       "2    bootstrapsleek intuitive powerful frontend fra...  \n",
       "3    airbnb javascript style guide mostly reasonabl...  \n",
       "4    d3 datadriven documentsd3 d3js javascript libr...  \n",
       "..                                                 ...  \n",
       "795  openbay supportedwarm greeting guestsisohunt t...  \n",
       "796  geocoderbuild statussoftware licenselicense im...  \n",
       "797  php debug barlatest stable version total downl...  \n",
       "798  full documentation visit phpinsightscomphp ins...  \n",
       "799  snappytravis ci build statusappveyor ci build ...  \n",
       "\n",
       "[800 rows x 5 columns]"
      ]
     },
     "execution_count": 5,
     "metadata": {},
     "output_type": "execute_result"
    }
   ],
   "source": [
    "df"
   ]
  },
  {
   "cell_type": "markdown",
   "metadata": {},
   "source": [
    "### Exploration\n",
    "\n",
    "#### Feature Selection\n",
    "For feature selection we created some numerical data columns:\n",
    "\n",
    "| Feature | Description |\n",
    "|--- |--- |\n",
    "| word_count_simple | Count of the number of spaces in the lemmatized words |\n",
    "| word_count | Count of all of the lemmatized words |\n",
    "| unique_count | Count of all words, only counted once |\n",
    "| non_single_count | Count of all words appearing more then once, anywhere |\n",
    "| percent_unique | Percentage of unique words |\n",
    "| percent_repeat | Percentage of words that repeated |\n",
    "| percent_one_word | Percentage of words that appeared only once in `all_words` value_count series |\n",
    "| percent_non_single | Percentage of words that appeared more than once on README.md page |\n",
    "\n",
    "We used the `df.lemmatized` column in the creation of all the numerical columns\n"
   ]
  },
  {
   "cell_type": "code",
   "execution_count": 6,
   "metadata": {},
   "outputs": [],
   "source": [
    "# df = preprocessing.feature_engineering(df)"
   ]
  },
  {
   "cell_type": "code",
   "execution_count": 7,
   "metadata": {},
   "outputs": [
    {
     "data": {
      "text/html": [
       "<div>\n",
       "<style scoped>\n",
       "    .dataframe tbody tr th:only-of-type {\n",
       "        vertical-align: middle;\n",
       "    }\n",
       "\n",
       "    .dataframe tbody tr th {\n",
       "        vertical-align: top;\n",
       "    }\n",
       "\n",
       "    .dataframe thead th {\n",
       "        text-align: right;\n",
       "    }\n",
       "</style>\n",
       "<table border=\"1\" class=\"dataframe\">\n",
       "  <thead>\n",
       "    <tr style=\"text-align: right;\">\n",
       "      <th></th>\n",
       "      <th>repo</th>\n",
       "      <th>language</th>\n",
       "      <th>readme_contents</th>\n",
       "      <th>stemmed</th>\n",
       "      <th>lemmatized</th>\n",
       "    </tr>\n",
       "  </thead>\n",
       "  <tbody>\n",
       "    <tr>\n",
       "      <th>count</th>\n",
       "      <td>800</td>\n",
       "      <td>800</td>\n",
       "      <td>800</td>\n",
       "      <td>800</td>\n",
       "      <td>800</td>\n",
       "    </tr>\n",
       "    <tr>\n",
       "      <th>unique</th>\n",
       "      <td>660</td>\n",
       "      <td>4</td>\n",
       "      <td>660</td>\n",
       "      <td>660</td>\n",
       "      <td>660</td>\n",
       "    </tr>\n",
       "    <tr>\n",
       "      <th>top</th>\n",
       "      <td>NVIDIA/FastPhotoStyle</td>\n",
       "      <td>Java</td>\n",
       "      <td># Commander.js\\n\\n[![Build Status](https://api...</td>\n",
       "      <td>predi softwar licenseicolicenselicenselatest s...</td>\n",
       "      <td>io shadowrocket python gfwlist top500 easylist...</td>\n",
       "    </tr>\n",
       "    <tr>\n",
       "      <th>freq</th>\n",
       "      <td>3</td>\n",
       "      <td>200</td>\n",
       "      <td>3</td>\n",
       "      <td>3</td>\n",
       "      <td>3</td>\n",
       "    </tr>\n",
       "  </tbody>\n",
       "</table>\n",
       "</div>"
      ],
      "text/plain": [
       "                         repo language  \\\n",
       "count                     800      800   \n",
       "unique                    660        4   \n",
       "top     NVIDIA/FastPhotoStyle     Java   \n",
       "freq                        3      200   \n",
       "\n",
       "                                          readme_contents  \\\n",
       "count                                                 800   \n",
       "unique                                                660   \n",
       "top     # Commander.js\\n\\n[![Build Status](https://api...   \n",
       "freq                                                    3   \n",
       "\n",
       "                                                  stemmed  \\\n",
       "count                                                 800   \n",
       "unique                                                660   \n",
       "top     predi softwar licenseicolicenselicenselatest s...   \n",
       "freq                                                    3   \n",
       "\n",
       "                                               lemmatized  \n",
       "count                                                 800  \n",
       "unique                                                660  \n",
       "top     io shadowrocket python gfwlist top500 easylist...  \n",
       "freq                                                    3  "
      ]
     },
     "execution_count": 7,
     "metadata": {},
     "output_type": "execute_result"
    }
   ],
   "source": [
    "df.describe()"
   ]
  },
  {
   "cell_type": "code",
   "execution_count": 49,
   "metadata": {},
   "outputs": [],
   "source": [
    "plt.rcParams.update({'font.size': 14})"
   ]
  },
  {
   "cell_type": "markdown",
   "metadata": {},
   "source": [
    "The `feature_selection` function is computationally heavy on creating `non_single_count` column.  It compares all words in `word_count` to `all_words.value_counts()` and returns the word only if the word appears more than once in df.\n",
    "\n",
    "#### Below is code to save df to .csv to save time if you want to restart kernel and run multiple times."
   ]
  },
  {
   "cell_type": "code",
   "execution_count": 8,
   "metadata": {},
   "outputs": [],
   "source": [
    "df.to_csv('working.csv')"
   ]
  },
  {
   "cell_type": "code",
   "execution_count": 21,
   "metadata": {},
   "outputs": [],
   "source": [
    "df = pd.read_csv('working.csv')\n",
    "df = df.drop(columns='Unnamed: 0')"
   ]
  },
  {
   "cell_type": "markdown",
   "metadata": {},
   "source": [
    "#### Outliers\n",
    "\n",
    "Initally we handled outliers to make visualizations of numerical data better.  The high outliers.  As you can see below, it improves the interperetability of the visualizations.\n",
    "\n",
    "There are two unseen factors that occurred when dealing with the outliers:\n",
    "    1.  The descriptive statistics of each column changed immensely\n",
    "    2.  **Argument for the bottom of this sub section** Should we use data with outliers or not for modelling\n",
    "    \n",
    "The visualization with NO outliers is better for interpretation, but the values have changed so radically that we decided to model and do most of our non-numeric visualizations using full data set.  For that reason we have removed the `xticks` from the below viz as well.  The takeaway is that javascript and python have longer README.md than php and java.  This is somewhat expected as python and javascript our programming languages with a more robust tradition of documentation"
   ]
  },
  {
   "cell_type": "code",
   "execution_count": 22,
   "metadata": {},
   "outputs": [
    {
     "data": {
      "text/html": [
       "<div>\n",
       "<style scoped>\n",
       "    .dataframe tbody tr th:only-of-type {\n",
       "        vertical-align: middle;\n",
       "    }\n",
       "\n",
       "    .dataframe tbody tr th {\n",
       "        vertical-align: top;\n",
       "    }\n",
       "\n",
       "    .dataframe thead th {\n",
       "        text-align: right;\n",
       "    }\n",
       "</style>\n",
       "<table border=\"1\" class=\"dataframe\">\n",
       "  <thead>\n",
       "    <tr style=\"text-align: right;\">\n",
       "      <th></th>\n",
       "      <th>repo</th>\n",
       "      <th>language</th>\n",
       "      <th>readme_contents</th>\n",
       "      <th>stemmed</th>\n",
       "      <th>lemmatized</th>\n",
       "      <th>word_list</th>\n",
       "      <th>unique_words</th>\n",
       "      <th>non_single_words</th>\n",
       "      <th>word_count_simple</th>\n",
       "      <th>word_count</th>\n",
       "      <th>unique_count</th>\n",
       "      <th>non_single_count</th>\n",
       "      <th>percent_unique</th>\n",
       "      <th>percent_repeat</th>\n",
       "      <th>percent_one_word</th>\n",
       "      <th>percent_non_single</th>\n",
       "    </tr>\n",
       "  </thead>\n",
       "  <tbody>\n",
       "    <tr>\n",
       "      <th>0</th>\n",
       "      <td>freeCodeCamp/freeCodeCamp</td>\n",
       "      <td>JavaScript</td>\n",
       "      <td>![freeCodeCamp.org Social Banner](https://s3.a...</td>\n",
       "      <td>freecodecamporg social bannerpul request welco...</td>\n",
       "      <td>freecodecamporg social bannerpull request welc...</td>\n",
       "      <td>['freecodecamporg', 'social', 'bannerpull', 'r...</td>\n",
       "      <td>['freecodecamporg' 'social' 'bannerpull' 'requ...</td>\n",
       "      <td>['freecodecamporg', 'social', 'request', 'sour...</td>\n",
       "      <td>614</td>\n",
       "      <td>601</td>\n",
       "      <td>394</td>\n",
       "      <td>541</td>\n",
       "      <td>0.655574</td>\n",
       "      <td>0.344426</td>\n",
       "      <td>0.751269</td>\n",
       "      <td>0.900166</td>\n",
       "    </tr>\n",
       "    <tr>\n",
       "      <th>1</th>\n",
       "      <td>vuejs/vue</td>\n",
       "      <td>JavaScript</td>\n",
       "      <td>&lt;p align=\"center\"&gt;&lt;a href=\"https://vuejs.org\" ...</td>\n",
       "      <td>support vuejsvuej mitlicens open sourc project...</td>\n",
       "      <td>supporting vuejsvuejs mitlicensed open source ...</td>\n",
       "      <td>['supporting', 'vuejsvuejs', 'mitlicensed', 'o...</td>\n",
       "      <td>['supporting' 'vuejsvuejs' 'mitlicensed' 'open...</td>\n",
       "      <td>['supporting', 'mitlicensed', 'open', 'source'...</td>\n",
       "      <td>272</td>\n",
       "      <td>269</td>\n",
       "      <td>212</td>\n",
       "      <td>230</td>\n",
       "      <td>0.788104</td>\n",
       "      <td>0.211896</td>\n",
       "      <td>0.801887</td>\n",
       "      <td>0.855019</td>\n",
       "    </tr>\n",
       "    <tr>\n",
       "      <th>2</th>\n",
       "      <td>twbs/bootstrap</td>\n",
       "      <td>JavaScript</td>\n",
       "      <td>&lt;p align=\"center\"&gt;\\n  &lt;a href=\"https://getboot...</td>\n",
       "      <td>bootstrapsleek intuit power frontend framework...</td>\n",
       "      <td>bootstrapsleek intuitive powerful frontend fra...</td>\n",
       "      <td>['bootstrapsleek', 'intuitive', 'powerful', 'f...</td>\n",
       "      <td>['bootstrapsleek' 'intuitive' 'powerful' 'fron...</td>\n",
       "      <td>['intuitive', 'powerful', 'frontend', 'framewo...</td>\n",
       "      <td>487</td>\n",
       "      <td>479</td>\n",
       "      <td>328</td>\n",
       "      <td>394</td>\n",
       "      <td>0.684760</td>\n",
       "      <td>0.315240</td>\n",
       "      <td>0.795732</td>\n",
       "      <td>0.822547</td>\n",
       "    </tr>\n",
       "    <tr>\n",
       "      <th>4</th>\n",
       "      <td>d3/d3</td>\n",
       "      <td>JavaScript</td>\n",
       "      <td># D3: Data-Driven Documents\\n\\n&lt;a href=\"https:...</td>\n",
       "      <td>d3 datadriven documentsd3 d3j javascript libra...</td>\n",
       "      <td>d3 datadriven documentsd3 d3js javascript libr...</td>\n",
       "      <td>['d3', 'datadriven', 'documentsd3', 'd3js', 'j...</td>\n",
       "      <td>['d3' 'datadriven' 'documentsd3' 'd3js' 'javas...</td>\n",
       "      <td>['d3', 'datadriven', 'd3js', 'javascript', 'li...</td>\n",
       "      <td>129</td>\n",
       "      <td>129</td>\n",
       "      <td>100</td>\n",
       "      <td>112</td>\n",
       "      <td>0.775194</td>\n",
       "      <td>0.224806</td>\n",
       "      <td>0.850000</td>\n",
       "      <td>0.868217</td>\n",
       "    </tr>\n",
       "    <tr>\n",
       "      <th>5</th>\n",
       "      <td>facebook/react-native</td>\n",
       "      <td>JavaScript</td>\n",
       "      <td>&lt;h1 align=\"center\"&gt;\\n  &lt;a href=\"https://reactn...</td>\n",
       "      <td>react nativelearn write anywherebuild mobil ap...</td>\n",
       "      <td>react nativelearn write anywherebuild mobile a...</td>\n",
       "      <td>['react', 'nativelearn', 'write', 'anywherebui...</td>\n",
       "      <td>['react' 'nativelearn' 'write' 'anywherebuild'...</td>\n",
       "      <td>['react', 'write', 'mobile', 'apps', 'started'...</td>\n",
       "      <td>347</td>\n",
       "      <td>346</td>\n",
       "      <td>225</td>\n",
       "      <td>304</td>\n",
       "      <td>0.650289</td>\n",
       "      <td>0.349711</td>\n",
       "      <td>0.777778</td>\n",
       "      <td>0.878613</td>\n",
       "    </tr>\n",
       "    <tr>\n",
       "      <th>...</th>\n",
       "      <td>...</td>\n",
       "      <td>...</td>\n",
       "      <td>...</td>\n",
       "      <td>...</td>\n",
       "      <td>...</td>\n",
       "      <td>...</td>\n",
       "      <td>...</td>\n",
       "      <td>...</td>\n",
       "      <td>...</td>\n",
       "      <td>...</td>\n",
       "      <td>...</td>\n",
       "      <td>...</td>\n",
       "      <td>...</td>\n",
       "      <td>...</td>\n",
       "      <td>...</td>\n",
       "      <td>...</td>\n",
       "    </tr>\n",
       "    <tr>\n",
       "      <th>795</th>\n",
       "      <td>isohuntto/openbay</td>\n",
       "      <td>PHP</td>\n",
       "      <td>Openbay is not supported\\n=======\\n\\nWarm gree...</td>\n",
       "      <td>openbay supportedwarm greet guestsisohunt team...</td>\n",
       "      <td>openbay supportedwarm greeting guestsisohunt t...</td>\n",
       "      <td>['openbay', 'supportedwarm', 'greeting', 'gues...</td>\n",
       "      <td>['openbay' 'supportedwarm' 'greeting' 'guestsi...</td>\n",
       "      <td>['openbay', 'greeting', 'team', 'closing', 'op...</td>\n",
       "      <td>554</td>\n",
       "      <td>546</td>\n",
       "      <td>349</td>\n",
       "      <td>445</td>\n",
       "      <td>0.639194</td>\n",
       "      <td>0.360806</td>\n",
       "      <td>0.742120</td>\n",
       "      <td>0.815018</td>\n",
       "    </tr>\n",
       "    <tr>\n",
       "      <th>796</th>\n",
       "      <td>geocoder-php/Geocoder</td>\n",
       "      <td>PHP</td>\n",
       "      <td>Geocoder\\n========\\n\\n[![Build Status](https:/...</td>\n",
       "      <td>geocoderbuild statussoftwar licenselicens impo...</td>\n",
       "      <td>geocoderbuild statussoftware licenselicense im...</td>\n",
       "      <td>['geocoderbuild', 'statussoftware', 'licenseli...</td>\n",
       "      <td>['geocoderbuild' 'statussoftware' 'licenselice...</td>\n",
       "      <td>['statussoftware', 'licenselicense', 'importan...</td>\n",
       "      <td>1256</td>\n",
       "      <td>1211</td>\n",
       "      <td>624</td>\n",
       "      <td>959</td>\n",
       "      <td>0.515277</td>\n",
       "      <td>0.484723</td>\n",
       "      <td>0.762821</td>\n",
       "      <td>0.791908</td>\n",
       "    </tr>\n",
       "    <tr>\n",
       "      <th>797</th>\n",
       "      <td>maximebf/php-debugbar</td>\n",
       "      <td>PHP</td>\n",
       "      <td># PHP Debug Bar\\n\\n[![Latest Stable Version](h...</td>\n",
       "      <td>php debug barlatest stabl version total downlo...</td>\n",
       "      <td>php debug barlatest stable version total downl...</td>\n",
       "      <td>['php', 'debug', 'barlatest', 'stable', 'versi...</td>\n",
       "      <td>['php' 'debug' 'barlatest' 'stable' 'version' ...</td>\n",
       "      <td>['php', 'debug', 'stable', 'version', 'total',...</td>\n",
       "      <td>160</td>\n",
       "      <td>160</td>\n",
       "      <td>124</td>\n",
       "      <td>131</td>\n",
       "      <td>0.775000</td>\n",
       "      <td>0.225000</td>\n",
       "      <td>0.838710</td>\n",
       "      <td>0.818750</td>\n",
       "    </tr>\n",
       "    <tr>\n",
       "      <th>798</th>\n",
       "      <td>nunomaduro/phpinsights</td>\n",
       "      <td>PHP</td>\n",
       "      <td>&lt;p align=\"center\"&gt;\\n  &lt;img src=\"https://raw.gi...</td>\n",
       "      <td>full document visit phpinsightscomphp insight ...</td>\n",
       "      <td>full documentation visit phpinsightscomphp ins...</td>\n",
       "      <td>['full', 'documentation', 'visit', 'phpinsight...</td>\n",
       "      <td>['full' 'documentation' 'visit' 'phpinsightsco...</td>\n",
       "      <td>['full', 'documentation', 'visit', 'insight', ...</td>\n",
       "      <td>96</td>\n",
       "      <td>96</td>\n",
       "      <td>83</td>\n",
       "      <td>84</td>\n",
       "      <td>0.864583</td>\n",
       "      <td>0.135417</td>\n",
       "      <td>0.891566</td>\n",
       "      <td>0.875000</td>\n",
       "    </tr>\n",
       "    <tr>\n",
       "      <th>799</th>\n",
       "      <td>KnpLabs/snappy</td>\n",
       "      <td>PHP</td>\n",
       "      <td># Snappy\\n\\n[![Travis CI Build Status](https:/...</td>\n",
       "      <td>snappytravi ci build statusappveyor ci build s...</td>\n",
       "      <td>snappytravis ci build statusappveyor ci build ...</td>\n",
       "      <td>['snappytravis', 'ci', 'build', 'statusappveyo...</td>\n",
       "      <td>['snappytravis' 'ci' 'build' 'statusappveyor' ...</td>\n",
       "      <td>['ci', 'build', 'statusappveyor', 'ci', 'build...</td>\n",
       "      <td>388</td>\n",
       "      <td>298</td>\n",
       "      <td>201</td>\n",
       "      <td>243</td>\n",
       "      <td>0.674497</td>\n",
       "      <td>0.325503</td>\n",
       "      <td>0.781095</td>\n",
       "      <td>0.815436</td>\n",
       "    </tr>\n",
       "  </tbody>\n",
       "</table>\n",
       "<p>739 rows × 16 columns</p>\n",
       "</div>"
      ],
      "text/plain": [
       "                          repo    language  \\\n",
       "0    freeCodeCamp/freeCodeCamp  JavaScript   \n",
       "1                    vuejs/vue  JavaScript   \n",
       "2               twbs/bootstrap  JavaScript   \n",
       "4                        d3/d3  JavaScript   \n",
       "5        facebook/react-native  JavaScript   \n",
       "..                         ...         ...   \n",
       "795          isohuntto/openbay         PHP   \n",
       "796      geocoder-php/Geocoder         PHP   \n",
       "797      maximebf/php-debugbar         PHP   \n",
       "798     nunomaduro/phpinsights         PHP   \n",
       "799             KnpLabs/snappy         PHP   \n",
       "\n",
       "                                       readme_contents  \\\n",
       "0    ![freeCodeCamp.org Social Banner](https://s3.a...   \n",
       "1    <p align=\"center\"><a href=\"https://vuejs.org\" ...   \n",
       "2    <p align=\"center\">\\n  <a href=\"https://getboot...   \n",
       "4    # D3: Data-Driven Documents\\n\\n<a href=\"https:...   \n",
       "5    <h1 align=\"center\">\\n  <a href=\"https://reactn...   \n",
       "..                                                 ...   \n",
       "795  Openbay is not supported\\n=======\\n\\nWarm gree...   \n",
       "796  Geocoder\\n========\\n\\n[![Build Status](https:/...   \n",
       "797  # PHP Debug Bar\\n\\n[![Latest Stable Version](h...   \n",
       "798  <p align=\"center\">\\n  <img src=\"https://raw.gi...   \n",
       "799  # Snappy\\n\\n[![Travis CI Build Status](https:/...   \n",
       "\n",
       "                                               stemmed  \\\n",
       "0    freecodecamporg social bannerpul request welco...   \n",
       "1    support vuejsvuej mitlicens open sourc project...   \n",
       "2    bootstrapsleek intuit power frontend framework...   \n",
       "4    d3 datadriven documentsd3 d3j javascript libra...   \n",
       "5    react nativelearn write anywherebuild mobil ap...   \n",
       "..                                                 ...   \n",
       "795  openbay supportedwarm greet guestsisohunt team...   \n",
       "796  geocoderbuild statussoftwar licenselicens impo...   \n",
       "797  php debug barlatest stabl version total downlo...   \n",
       "798  full document visit phpinsightscomphp insight ...   \n",
       "799  snappytravi ci build statusappveyor ci build s...   \n",
       "\n",
       "                                            lemmatized  \\\n",
       "0    freecodecamporg social bannerpull request welc...   \n",
       "1    supporting vuejsvuejs mitlicensed open source ...   \n",
       "2    bootstrapsleek intuitive powerful frontend fra...   \n",
       "4    d3 datadriven documentsd3 d3js javascript libr...   \n",
       "5    react nativelearn write anywherebuild mobile a...   \n",
       "..                                                 ...   \n",
       "795  openbay supportedwarm greeting guestsisohunt t...   \n",
       "796  geocoderbuild statussoftware licenselicense im...   \n",
       "797  php debug barlatest stable version total downl...   \n",
       "798  full documentation visit phpinsightscomphp ins...   \n",
       "799  snappytravis ci build statusappveyor ci build ...   \n",
       "\n",
       "                                             word_list  \\\n",
       "0    ['freecodecamporg', 'social', 'bannerpull', 'r...   \n",
       "1    ['supporting', 'vuejsvuejs', 'mitlicensed', 'o...   \n",
       "2    ['bootstrapsleek', 'intuitive', 'powerful', 'f...   \n",
       "4    ['d3', 'datadriven', 'documentsd3', 'd3js', 'j...   \n",
       "5    ['react', 'nativelearn', 'write', 'anywherebui...   \n",
       "..                                                 ...   \n",
       "795  ['openbay', 'supportedwarm', 'greeting', 'gues...   \n",
       "796  ['geocoderbuild', 'statussoftware', 'licenseli...   \n",
       "797  ['php', 'debug', 'barlatest', 'stable', 'versi...   \n",
       "798  ['full', 'documentation', 'visit', 'phpinsight...   \n",
       "799  ['snappytravis', 'ci', 'build', 'statusappveyo...   \n",
       "\n",
       "                                          unique_words  \\\n",
       "0    ['freecodecamporg' 'social' 'bannerpull' 'requ...   \n",
       "1    ['supporting' 'vuejsvuejs' 'mitlicensed' 'open...   \n",
       "2    ['bootstrapsleek' 'intuitive' 'powerful' 'fron...   \n",
       "4    ['d3' 'datadriven' 'documentsd3' 'd3js' 'javas...   \n",
       "5    ['react' 'nativelearn' 'write' 'anywherebuild'...   \n",
       "..                                                 ...   \n",
       "795  ['openbay' 'supportedwarm' 'greeting' 'guestsi...   \n",
       "796  ['geocoderbuild' 'statussoftware' 'licenselice...   \n",
       "797  ['php' 'debug' 'barlatest' 'stable' 'version' ...   \n",
       "798  ['full' 'documentation' 'visit' 'phpinsightsco...   \n",
       "799  ['snappytravis' 'ci' 'build' 'statusappveyor' ...   \n",
       "\n",
       "                                      non_single_words  word_count_simple  \\\n",
       "0    ['freecodecamporg', 'social', 'request', 'sour...                614   \n",
       "1    ['supporting', 'mitlicensed', 'open', 'source'...                272   \n",
       "2    ['intuitive', 'powerful', 'frontend', 'framewo...                487   \n",
       "4    ['d3', 'datadriven', 'd3js', 'javascript', 'li...                129   \n",
       "5    ['react', 'write', 'mobile', 'apps', 'started'...                347   \n",
       "..                                                 ...                ...   \n",
       "795  ['openbay', 'greeting', 'team', 'closing', 'op...                554   \n",
       "796  ['statussoftware', 'licenselicense', 'importan...               1256   \n",
       "797  ['php', 'debug', 'stable', 'version', 'total',...                160   \n",
       "798  ['full', 'documentation', 'visit', 'insight', ...                 96   \n",
       "799  ['ci', 'build', 'statusappveyor', 'ci', 'build...                388   \n",
       "\n",
       "     word_count  unique_count  non_single_count  percent_unique  \\\n",
       "0           601           394               541        0.655574   \n",
       "1           269           212               230        0.788104   \n",
       "2           479           328               394        0.684760   \n",
       "4           129           100               112        0.775194   \n",
       "5           346           225               304        0.650289   \n",
       "..          ...           ...               ...             ...   \n",
       "795         546           349               445        0.639194   \n",
       "796        1211           624               959        0.515277   \n",
       "797         160           124               131        0.775000   \n",
       "798          96            83                84        0.864583   \n",
       "799         298           201               243        0.674497   \n",
       "\n",
       "     percent_repeat  percent_one_word  percent_non_single  \n",
       "0          0.344426          0.751269            0.900166  \n",
       "1          0.211896          0.801887            0.855019  \n",
       "2          0.315240          0.795732            0.822547  \n",
       "4          0.224806          0.850000            0.868217  \n",
       "5          0.349711          0.777778            0.878613  \n",
       "..              ...               ...                 ...  \n",
       "795        0.360806          0.742120            0.815018  \n",
       "796        0.484723          0.762821            0.791908  \n",
       "797        0.225000          0.838710            0.818750  \n",
       "798        0.135417          0.891566            0.875000  \n",
       "799        0.325503          0.781095            0.815436  \n",
       "\n",
       "[739 rows x 16 columns]"
      ]
     },
     "execution_count": 22,
     "metadata": {},
     "output_type": "execute_result"
    }
   ],
   "source": [
    "df_no_outliers = handle_outliers.remove_outliers(df, 3)\n",
    "df_no_outliers"
   ]
  },
  {
   "cell_type": "code",
   "execution_count": 47,
   "metadata": {},
   "outputs": [
    {
     "name": "stdout",
     "output_type": "stream",
     "text": [
      "The initial df has 800 rows\n",
      "The df_no_outliers has 739 rows\n",
      "7.6% of the rows have been dropped for outliers\n"
     ]
    }
   ],
   "source": [
    "print(f'The initial df has {df.shape[0]} rows') \n",
    "print(f'The df_no_outliers has {df_no_outliers.shape[0]} rows')\n",
    "p = round(1 - (df_no_outliers.shape[0]/df.shape[0]), 3)*100\n",
    "print(f'{p}% of the rows have been dropped for outliers')"
   ]
  },
  {
   "cell_type": "code",
   "execution_count": 50,
   "metadata": {},
   "outputs": [
    {
     "data": {
      "text/plain": [
       "Text(0.5, 0.98, 'Outliers Screwing Up Your Awesome Visualization')"
      ]
     },
     "execution_count": 50,
     "metadata": {},
     "output_type": "execute_result"
    },
    {
     "data": {
      "image/png": "[encoded data removed]",
      "text/plain": [
       "<Figure size 864x720 with 2 Axes>"
      ]
     },
     "metadata": {
      "needs_background": "light"
     },
     "output_type": "display_data"
    }
   ],
   "source": [
    "f = plt.figure(figsize=(12,10))\n",
    "f.add_subplot(2, 1, 1)\n",
    "\n",
    "sns.boxplot(x ='word_count', y='language', data=df)\n",
    "plt.title('Visualization with Outliers')\n",
    "plt.xlabel(\"\")\n",
    "plt.ylabel(\"\")\n",
    "plt.xticks([])\n",
    "\n",
    "f.add_subplot(2, 1, 2)\n",
    "sns.boxplot(x ='word_count', y='language', data=df_no_outliers)\n",
    "plt.title('Visualization with NO Outliers')\n",
    "plt.xlabel(\"\")\n",
    "plt.ylabel(\"\")\n",
    "plt.xticks([])\n",
    "\n",
    "plt.suptitle(\"Outliers Screwing Up Your Awesome Visualization\")"
   ]
  },
  {
   "cell_type": "markdown",
   "metadata": {},
   "source": [
    "##### The Cost of Outliers\n",
    "\n",
    "While removing outliers can make for visualizations that are easier to interpret, in this instance removing the outliers had such a massive change in the descriptive statistics we decided to leave them in for modelling and making word frequency visualizations.  We set k=3 in our IQR outlier test.\n",
    "\n",
    "Given more time we would want to model and visualize on the outlier free data set as well to see if it improves our result. \n",
    "\n",
    "Python and JavaScript word counts mean change by about 50% if outliers are removed.  That is too much of a difference.\n",
    "\n",
    "*Notes: for the sake of time we dropped rows instead of moving values.  We would expect better results moving values"
   ]
  },
  {
   "cell_type": "code",
   "execution_count": 51,
   "metadata": {},
   "outputs": [
    {
     "data": {
      "text/html": [
       "<div>\n",
       "<style scoped>\n",
       "    .dataframe tbody tr th:only-of-type {\n",
       "        vertical-align: middle;\n",
       "    }\n",
       "\n",
       "    .dataframe tbody tr th {\n",
       "        vertical-align: top;\n",
       "    }\n",
       "\n",
       "    .dataframe thead th {\n",
       "        text-align: right;\n",
       "    }\n",
       "</style>\n",
       "<table border=\"1\" class=\"dataframe\">\n",
       "  <thead>\n",
       "    <tr style=\"text-align: right;\">\n",
       "      <th></th>\n",
       "      <th>language</th>\n",
       "      <th>mean</th>\n",
       "      <th>mean_change</th>\n",
       "      <th>percent_change</th>\n",
       "    </tr>\n",
       "  </thead>\n",
       "  <tbody>\n",
       "    <tr>\n",
       "      <th>0</th>\n",
       "      <td>Java</td>\n",
       "      <td>321.475</td>\n",
       "      <td>25.242677</td>\n",
       "      <td>0.078521</td>\n",
       "    </tr>\n",
       "    <tr>\n",
       "      <th>1</th>\n",
       "      <td>JavaScript</td>\n",
       "      <td>867.970</td>\n",
       "      <td>463.185116</td>\n",
       "      <td>0.533642</td>\n",
       "    </tr>\n",
       "    <tr>\n",
       "      <th>2</th>\n",
       "      <td>PHP</td>\n",
       "      <td>358.650</td>\n",
       "      <td>67.471429</td>\n",
       "      <td>0.188126</td>\n",
       "    </tr>\n",
       "    <tr>\n",
       "      <th>3</th>\n",
       "      <td>Python</td>\n",
       "      <td>823.615</td>\n",
       "      <td>400.273960</td>\n",
       "      <td>0.485996</td>\n",
       "    </tr>\n",
       "  </tbody>\n",
       "</table>\n",
       "</div>"
      ],
      "text/plain": [
       "     language     mean  mean_change  percent_change\n",
       "0        Java  321.475    25.242677        0.078521\n",
       "1  JavaScript  867.970   463.185116        0.533642\n",
       "2         PHP  358.650    67.471429        0.188126\n",
       "3      Python  823.615   400.273960        0.485996"
      ]
     },
     "execution_count": 51,
     "metadata": {},
     "output_type": "execute_result"
    }
   ],
   "source": [
    "df_dif = df.groupby('language').word_count.agg(['mean'])\n",
    "df_dif['mean_change'] = (df.groupby('language').word_count.agg('mean') -\n",
    "          df_no_outliers.groupby('language').word_count.agg('mean'))\n",
    "df_dif['percent_change'] =  df_dif.mean_change / df_dif['mean']\n",
    "df_dif = df_dif.reset_index()\n",
    "df_dif"
   ]
  },
  {
   "cell_type": "code",
   "execution_count": 52,
   "metadata": {},
   "outputs": [
    {
     "data": {
      "text/plain": [
       "Text(0, 0.5, '')"
      ]
     },
     "execution_count": 52,
     "metadata": {},
     "output_type": "execute_result"
    },
    {
     "data": {
      "image/png": "[encoded data removed]",
      "text/plain": [
       "<Figure size 432x288 with 1 Axes>"
      ]
     },
     "metadata": {
      "needs_background": "light"
     },
     "output_type": "display_data"
    }
   ],
   "source": [
    "sns.barplot(x='language', y='percent_change', data=df_dif)\n",
    "plt.title(\"Percent change due to handling outliers\")\n",
    "plt.xlabel(\"\")\n",
    "plt.ylabel(\"\")"
   ]
  },
  {
   "cell_type": "markdown",
   "metadata": {},
   "source": [
    "#### New Data Frames\n",
    "\n",
    "To answer the exploratory visualizations we made some new dataframes.  \n",
    "\n",
    "| Data Frames | Description |\n",
    "|--- |--- |\n",
    "| freq_df | dataframe of value counts for each word |\n",
    "| language_df | dataframe of what language each word shows up in and how often |\n",
    "| sparse_matrix | dataframe for modelling that is mostly 0 |"
   ]
  },
  {
   "cell_type": "code",
   "execution_count": 53,
   "metadata": {},
   "outputs": [],
   "source": [
    "freq_df = preprocessing.language_series(df)"
   ]
  },
  {
   "cell_type": "code",
   "execution_count": 54,
   "metadata": {},
   "outputs": [
    {
     "name": "stdout",
     "output_type": "stream",
     "text": [
      "freq_df is 81789 rows and 5 columns\n",
      "rows are unique words in df and columns are programming languages\n"
     ]
    },
    {
     "data": {
      "text/html": [
       "<div>\n",
       "<style scoped>\n",
       "    .dataframe tbody tr th:only-of-type {\n",
       "        vertical-align: middle;\n",
       "    }\n",
       "\n",
       "    .dataframe tbody tr th {\n",
       "        vertical-align: top;\n",
       "    }\n",
       "\n",
       "    .dataframe thead th {\n",
       "        text-align: right;\n",
       "    }\n",
       "</style>\n",
       "<table border=\"1\" class=\"dataframe\">\n",
       "  <thead>\n",
       "    <tr style=\"text-align: right;\">\n",
       "      <th></th>\n",
       "      <th>all</th>\n",
       "      <th>php</th>\n",
       "      <th>python</th>\n",
       "      <th>java</th>\n",
       "      <th>java_script</th>\n",
       "    </tr>\n",
       "  </thead>\n",
       "  <tbody>\n",
       "    <tr>\n",
       "      <th>0</th>\n",
       "      <td>515</td>\n",
       "      <td>36</td>\n",
       "      <td>256</td>\n",
       "      <td>41</td>\n",
       "      <td>182</td>\n",
       "    </tr>\n",
       "    <tr>\n",
       "      <th>00</th>\n",
       "      <td>53</td>\n",
       "      <td>5</td>\n",
       "      <td>40</td>\n",
       "      <td>1</td>\n",
       "      <td>7</td>\n",
       "    </tr>\n",
       "    <tr>\n",
       "      <th>000</th>\n",
       "      <td>15</td>\n",
       "      <td>5</td>\n",
       "      <td>6</td>\n",
       "      <td>2</td>\n",
       "      <td>2</td>\n",
       "    </tr>\n",
       "  </tbody>\n",
       "</table>\n",
       "</div>"
      ],
      "text/plain": [
       "     all  php  python  java  java_script\n",
       "0    515   36     256    41          182\n",
       "00    53    5      40     1            7\n",
       "000   15    5       6     2            2"
      ]
     },
     "execution_count": 54,
     "metadata": {},
     "output_type": "execute_result"
    }
   ],
   "source": [
    "var = freq_df.shape\n",
    "print(f'freq_df is {var[0]} rows and {var[1]} columns')\n",
    "print(f'rows are unique words in df and columns are programming languages')\n",
    "freq_df.head(3)"
   ]
  },
  {
   "cell_type": "code",
   "execution_count": 55,
   "metadata": {},
   "outputs": [],
   "source": [
    "language_df = preprocessing.make_language_df(df)"
   ]
  },
  {
   "cell_type": "code",
   "execution_count": 56,
   "metadata": {},
   "outputs": [
    {
     "name": "stdout",
     "output_type": "stream",
     "text": [
      "language_df is 15 rows and 6 columns\n",
      "rows are most common occurring words and columns are programming languages\n",
      "This data frame shows in which README.md do common words show up\n",
      "For the sake of time we have limited rows to 15 but that can be increased\n"
     ]
    },
    {
     "data": {
      "text/html": [
       "<div>\n",
       "<style scoped>\n",
       "    .dataframe tbody tr th:only-of-type {\n",
       "        vertical-align: middle;\n",
       "    }\n",
       "\n",
       "    .dataframe tbody tr th {\n",
       "        vertical-align: top;\n",
       "    }\n",
       "\n",
       "    .dataframe thead th {\n",
       "        text-align: right;\n",
       "    }\n",
       "</style>\n",
       "<table border=\"1\" class=\"dataframe\">\n",
       "  <thead>\n",
       "    <tr style=\"text-align: right;\">\n",
       "      <th></th>\n",
       "      <th>word</th>\n",
       "      <th>all_languages</th>\n",
       "      <th>javascript</th>\n",
       "      <th>python</th>\n",
       "      <th>php</th>\n",
       "      <th>java</th>\n",
       "    </tr>\n",
       "  </thead>\n",
       "  <tbody>\n",
       "    <tr>\n",
       "      <th>0</th>\n",
       "      <td>use</td>\n",
       "      <td>618</td>\n",
       "      <td>170</td>\n",
       "      <td>159</td>\n",
       "      <td>138</td>\n",
       "      <td>151</td>\n",
       "    </tr>\n",
       "    <tr>\n",
       "      <th>1</th>\n",
       "      <td>code</td>\n",
       "      <td>543</td>\n",
       "      <td>156</td>\n",
       "      <td>154</td>\n",
       "      <td>127</td>\n",
       "      <td>106</td>\n",
       "    </tr>\n",
       "    <tr>\n",
       "      <th>2</th>\n",
       "      <td>file</td>\n",
       "      <td>455</td>\n",
       "      <td>122</td>\n",
       "      <td>116</td>\n",
       "      <td>97</td>\n",
       "      <td>120</td>\n",
       "    </tr>\n",
       "  </tbody>\n",
       "</table>\n",
       "</div>"
      ],
      "text/plain": [
       "   word  all_languages  javascript  python  php  java\n",
       "0   use            618         170     159  138   151\n",
       "1  code            543         156     154  127   106\n",
       "2  file            455         122     116   97   120"
      ]
     },
     "execution_count": 56,
     "metadata": {},
     "output_type": "execute_result"
    }
   ],
   "source": [
    "var = language_df.shape\n",
    "print(f'language_df is {var[0]} rows and {var[1]} columns')\n",
    "print(f'rows are most common occurring words and columns are programming languages')\n",
    "print('This data frame shows in which README.md do common words show up')\n",
    "print('For the sake of time we have limited rows to 15 but that can be increased')\n",
    "language_df.head(3)"
   ]
  },
  {
   "cell_type": "code",
   "execution_count": 57,
   "metadata": {},
   "outputs": [],
   "source": [
    "import explore\n",
    "sparse_matrix = explore.make_sparse_matrix(df.lemmatized, n=15)"
   ]
  },
  {
   "cell_type": "markdown",
   "metadata": {},
   "source": [
    "#### Visualizations"
   ]
  },
  {
   "cell_type": "code",
   "execution_count": 61,
   "metadata": {},
   "outputs": [
    {
     "name": "stdout",
     "output_type": "stream",
     "text": [
      "This visualization shows the distplot, which is histogram with a trendline, of all numeric\n",
      "values in dataframe.  The x-axis is target amount.  The distribution of the data is normal\n",
      "for the percent columns and poisson for the counted variables.  Interestingly, the most\n",
      "derived variable also has a non-traditional distribution\n"
     ]
    },
    {
     "data": {
      "image/png": "[encoded data removed]",
      "text/plain": [
       "<Figure size 1800x1440 with 8 Axes>"
      ]
     },
     "metadata": {
      "needs_background": "light"
     },
     "output_type": "display_data"
    }
   ],
   "source": [
    "f = plt.figure(figsize=(25,20))\n",
    "continuous_data = df_no_outliers.select_dtypes(include=[\"int\", \"float\"])\n",
    "plt.suptitle(\"Distribution of Variable with Trend Line\")\n",
    "\n",
    "print('This visualization shows the distplot, which is histogram with a trendline, of all numeric') \n",
    "print('values in dataframe.  The x-axis is target amount.  The distribution of the data is normal')\n",
    "print('for the percent columns and poisson for the counted variables.  Interestingly, the most')\n",
    "print('derived variable also has a non-traditional distribution')\n",
    "\n",
    "for i in range(0,8):\n",
    "    f.add_subplot(4,2, i+1)\n",
    "    sns.distplot(continuous_data.iloc[:,i], bins=5)\n",
    "plt.show()\n"
   ]
  },
  {
   "cell_type": "markdown",
   "metadata": {},
   "source": [
    "In exploring the data, we created four percentage variable comparing the count of: \n",
    "\n",
    "- unique words \n",
    "- repeating words\n",
    "- words that only show up one time in the entire df\n",
    "- words that are used multiple times in a specific README.md\n",
    "\n",
    "we wanted to explore if the count of those variables or the percentages at which they occur in a specific README.md can reveal some information about the which language the README.md was written in.  Unfortunately, they do not"
   ]
  },
  {
   "cell_type": "code",
   "execution_count": 59,
   "metadata": {},
   "outputs": [
    {
     "data": {
      "image/png": "[encoded data removed]",
      "text/plain": [
       "<Figure size 1800x1440 with 4 Axes>"
      ]
     },
     "metadata": {
      "needs_background": "light"
     },
     "output_type": "display_data"
    }
   ],
   "source": [
    "f = plt.figure(figsize=(25,20))\n",
    "continuous_data = df_no_outliers.select_dtypes(include=[\"float\"])\n",
    "\n",
    "plt.suptitle(\"Frequency of Occurrance\")\n",
    "\n",
    "for i in range(0,4):\n",
    "    f.add_subplot(2,2, i+1)\n",
    "    sns.boxplot(x = continuous_data.iloc[:,i], y=df_no_outliers.language)\n",
    "    plt.ylabel(\"\")\n",
    "\n",
    "plt.show()"
   ]
  },
  {
   "cell_type": "code",
   "execution_count": 67,
   "metadata": {},
   "outputs": [],
   "source": [
    "col = df.lemmatized\n",
    "df_of_words = sparse_matrix\n",
    "col_list = list(df_of_words.columns)\n",
    "idf_list = []"
   ]
  },
  {
   "cell_type": "code",
   "execution_count": 68,
   "metadata": {},
   "outputs": [],
   "source": [
    "idf_list = []\n",
    "    \n",
    "for l in col_list:\n",
    "    x = df_of_words[l].apply(lambda x: x > 0).sum()\n",
    "    idf_list.append(x)"
   ]
  },
  {
   "cell_type": "code",
   "execution_count": 71,
   "metadata": {},
   "outputs": [],
   "source": [
    "idf_df = pd.DataFrame({'word': col_list,\n",
    "                    'appearances': idf_list,  \n",
    "                      })\n",
    "idf_df['idf'] = np.log(800 / idf_df.appearances)"
   ]
  },
  {
   "cell_type": "markdown",
   "metadata": {},
   "source": [
    "The lower the IDF the more often it appears in **any** of the data"
   ]
  },
  {
   "cell_type": "code",
   "execution_count": 73,
   "metadata": {},
   "outputs": [
    {
     "data": {
      "image/png": "[encoded data removed]",
      "text/plain": [
       "<Figure size 432x288 with 1 Axes>"
      ]
     },
     "metadata": {
      "needs_background": "light"
     },
     "output_type": "display_data"
    }
   ],
   "source": [
    "sns.barplot(x=idf_df.word, y=idf_df.idf)\n",
    "plt.xlabel(\"\")\n",
    "plt.ylabel(\"\")\n",
    "plt.xticks(rotation='vertical')\n",
    "plt.title('IDF for a Given Word')\n",
    "plt.show()"
   ]
  },
  {
   "cell_type": "markdown",
   "metadata": {},
   "source": [
    "We created five groups in which to anaylize the words from the readme file. All Words are all of the words from alll readmes, regardlees of programming language. JavaScript, Java, PHP, and Python make up the other four groups."
   ]
  },
  {
   "cell_type": "markdown",
   "metadata": {},
   "source": [
    "1. Distribution of the twenty most common words by programming language"
   ]
  },
  {
   "cell_type": "code",
   "execution_count": null,
   "metadata": {},
   "outputs": [],
   "source": [
    "# word_counts is a dataframe of all the words from the readmes quantified per language\n",
    "word_counts = explore.get_word_count(df)\n",
    "explore.viz_most_common(word_counts)"
   ]
  },
  {
   "cell_type": "markdown",
   "metadata": {},
   "source": [
    "- it looks like JavaScript and Python make up the larger proportion of the top twenty words"
   ]
  },
  {
   "cell_type": "code",
   "execution_count": null,
   "metadata": {},
   "outputs": [],
   "source": [
    "# creates a visual of word cloud subplot for the twenty most common words\n",
    "# All Words represents the twenty most common words of all the readme's\n",
    "# JavaScript, Python, PHP, and Java are the twenty most common words to the title language\n",
    "explore.get_single_word_cloud(df)"
   ]
  },
  {
   "cell_type": "markdown",
   "metadata": {},
   "source": [
    "### Bigrams\n",
    "- what do the twenty most bigrams look like\n",
    "- can grouping words help to better predict a language "
   ]
  },
  {
   "cell_type": "code",
   "execution_count": null,
   "metadata": {},
   "outputs": [],
   "source": [
    "# bigram per language  \n",
    "bigram_word_counts = explore.top_twenty_bigrams(df)\n",
    "explore.viz_top_bigram(bigram_word_counts)"
   ]
  },
  {
   "cell_type": "markdown",
   "metadata": {},
   "source": [
    "- it looks like JavaScript makes up the most common\n",
    "- Python is the second most common"
   ]
  },
  {
   "cell_type": "code",
   "execution_count": null,
   "metadata": {},
   "outputs": [],
   "source": [
    "explore.get_bigram_word_cloud(df)"
   ]
  },
  {
   "cell_type": "markdown",
   "metadata": {},
   "source": [
    "- here we see that bigrams are very language specific"
   ]
  },
  {
   "cell_type": "markdown",
   "metadata": {},
   "source": [
    "### Modeling\n",
    "\n",
    "#### Bag of Words Model\n",
    "\n",
    "First we started with a model that uses how often each unique word from all documents appears in each document, also know as a bag of words. We will use the CountVectorizer to create a sparse matrix containing this information. We then split the data and feed the training set into a Decision Tree Classifier with a max depth of 10, which was determined through tuning on the validation set."
   ]
  },
  {
   "cell_type": "code",
   "execution_count": null,
   "metadata": {},
   "outputs": [],
   "source": [
    "cv = CountVectorizer()\n",
    "X = cv.fit_transform(df.lemmatized)\n",
    "y = df.language\n",
    "\n",
    "X_train, X_test, y_train, y_test = train_test_split(X, y, test_size=.2, random_state=13)\n",
    "X_train, X_val, y_train, y_val = train_test_split(X_train, y_train, test_size = .25, random_state=13)\n",
    "\n",
    "tree = DecisionTreeClassifier(max_depth=10, random_state=13)\n",
    "tree.fit(X_train, y_train)\n",
    "\n",
    "print(f'Accuracy Score: {tree.score(X_val, y_val) * 100:.2f}%')"
   ]
  },
  {
   "cell_type": "markdown",
   "metadata": {},
   "source": [
    "We can see that the model has an accuracy for 83% but let's take a deeper look at the model's performance."
   ]
  },
  {
   "cell_type": "code",
   "execution_count": null,
   "metadata": {},
   "outputs": [],
   "source": [
    "preds = tree.predict(X_val)\n",
    "print(classification_report(y_val, preds))"
   ]
  },
  {
   "cell_type": "markdown",
   "metadata": {},
   "source": [
    "The main thing we will pay attention to here is the F1 score since it is the weighted mean of the precision and recall. As we can see the F1 score for each of the catagories is very similiar but we can see that the model is slightly better at predicting PHP.\n",
    "\n",
    "Next let's look at the most important words to the model based on feature importance."
   ]
  },
  {
   "cell_type": "code",
   "execution_count": null,
   "metadata": {},
   "outputs": [],
   "source": [
    "pd.Series(dict(zip(cv.get_feature_names(), tree.feature_importances_))).sort_values(ascending=False)[:6]"
   ]
  },
  {
   "cell_type": "markdown",
   "metadata": {},
   "source": [
    "Above we are looking we are looking at the 6 most important words for the model. Notice that the name of each programming language that we are trying to predict appears on this list."
   ]
  },
  {
   "cell_type": "markdown",
   "metadata": {},
   "source": [
    "#### TF-IDF Model\n",
    "\n",
    "Next we will make a model that uses how often the word appears in the document along with how many documents that word appears in, also know as TF-IDF (Term Frequency - Inverse Document Frequency). We will use the TfidfVectorizer to create a sparse matrix containing this information. We then split the data and feed the training set into a Decision Tree Classifier with a max depth of 7, which was determined through tuning on the validation set."
   ]
  },
  {
   "cell_type": "code",
   "execution_count": null,
   "metadata": {},
   "outputs": [],
   "source": [
    "tfidf = TfidfVectorizer()\n",
    "X = tfidf.fit_transform(df.lemmatized)\n",
    "y = df.language\n",
    "\n",
    "X_train, X_test, y_train, y_test = train_test_split(X, y, test_size=.2, random_state=13)\n",
    "X_train, X_val, y_train, y_val = train_test_split(X_train, y_train, test_size = .25, random_state=13)\n",
    "\n",
    "tree = DecisionTreeClassifier(max_depth=7, random_state=13)\n",
    "tree.fit(X_train, y_train)\n",
    "\n",
    "print(f'Accuracy Score: {tree.score(X_val, y_val) * 100:.2f}%')"
   ]
  },
  {
   "cell_type": "markdown",
   "metadata": {},
   "source": [
    "We can see that the model has an accuracy for 80% but let's take a deeper look at the model's performance."
   ]
  },
  {
   "cell_type": "code",
   "execution_count": 26,
   "metadata": {},
   "outputs": [
    {
     "ename": "AttributeError",
     "evalue": "module 'sklearn.tree' has no attribute 'predict'",
     "output_type": "error",
     "traceback": [
      "\u001b[0;31m---------------------------------------------------------------------------\u001b[0m",
      "\u001b[0;31mAttributeError\u001b[0m                            Traceback (most recent call last)",
      "\u001b[0;32m<ipython-input-26-d06e7c6172a1>\u001b[0m in \u001b[0;36m<module>\u001b[0;34m\u001b[0m\n\u001b[0;32m----> 1\u001b[0;31m \u001b[0mpreds\u001b[0m \u001b[0;34m=\u001b[0m \u001b[0mtree\u001b[0m\u001b[0;34m.\u001b[0m\u001b[0mpredict\u001b[0m\u001b[0;34m(\u001b[0m\u001b[0mX_val\u001b[0m\u001b[0;34m)\u001b[0m\u001b[0;34m\u001b[0m\u001b[0;34m\u001b[0m\u001b[0m\n\u001b[0m\u001b[1;32m      2\u001b[0m \u001b[0mprint\u001b[0m\u001b[0;34m(\u001b[0m\u001b[0mclassification_report\u001b[0m\u001b[0;34m(\u001b[0m\u001b[0my_val\u001b[0m\u001b[0;34m,\u001b[0m \u001b[0mpreds\u001b[0m\u001b[0;34m)\u001b[0m\u001b[0;34m)\u001b[0m\u001b[0;34m\u001b[0m\u001b[0;34m\u001b[0m\u001b[0m\n",
      "\u001b[0;31mAttributeError\u001b[0m: module 'sklearn.tree' has no attribute 'predict'"
     ]
    }
   ],
   "source": [
    "preds = tree.predict(X_val)\n",
    "print(classification_report(y_val, preds))"
   ]
  },
  {
   "cell_type": "markdown",
   "metadata": {},
   "source": [
    "Again, let's mainly pay attention to the F1 score here. As we can see the F1 score for each of the catagories is less similiar than before but we can see that this model is still better at predicting PHP but is becoming worse at predicting Python.\n",
    "\n",
    "Next let's look at the most important words to the model based on feature importance."
   ]
  },
  {
   "cell_type": "code",
   "execution_count": 27,
   "metadata": {},
   "outputs": [
    {
     "ename": "NameError",
     "evalue": "name 'tfidf' is not defined",
     "output_type": "error",
     "traceback": [
      "\u001b[0;31m---------------------------------------------------------------------------\u001b[0m",
      "\u001b[0;31mNameError\u001b[0m                                 Traceback (most recent call last)",
      "\u001b[0;32m<ipython-input-27-c84ba0a8eaac>\u001b[0m in \u001b[0;36m<module>\u001b[0;34m\u001b[0m\n\u001b[0;32m----> 1\u001b[0;31m \u001b[0mpd\u001b[0m\u001b[0;34m.\u001b[0m\u001b[0mSeries\u001b[0m\u001b[0;34m(\u001b[0m\u001b[0mdict\u001b[0m\u001b[0;34m(\u001b[0m\u001b[0mzip\u001b[0m\u001b[0;34m(\u001b[0m\u001b[0mtfidf\u001b[0m\u001b[0;34m.\u001b[0m\u001b[0mget_feature_names\u001b[0m\u001b[0;34m(\u001b[0m\u001b[0;34m)\u001b[0m\u001b[0;34m,\u001b[0m \u001b[0mtree\u001b[0m\u001b[0;34m.\u001b[0m\u001b[0mfeature_importances_\u001b[0m\u001b[0;34m)\u001b[0m\u001b[0;34m)\u001b[0m\u001b[0;34m)\u001b[0m\u001b[0;34m.\u001b[0m\u001b[0msort_values\u001b[0m\u001b[0;34m(\u001b[0m\u001b[0mascending\u001b[0m\u001b[0;34m=\u001b[0m\u001b[0;32mFalse\u001b[0m\u001b[0;34m)\u001b[0m\u001b[0;34m[\u001b[0m\u001b[0;34m:\u001b[0m\u001b[0;36m6\u001b[0m\u001b[0;34m]\u001b[0m\u001b[0;34m\u001b[0m\u001b[0;34m\u001b[0m\u001b[0m\n\u001b[0m",
      "\u001b[0;31mNameError\u001b[0m: name 'tfidf' is not defined"
     ]
    }
   ],
   "source": [
    "pd.Series(dict(zip(tfidf.get_feature_names(), tree.feature_importances_))).sort_values(ascending=False)[:6]"
   ]
  },
  {
   "cell_type": "markdown",
   "metadata": {},
   "source": [
    "Above we are again looking we are looking at the 6 most important words for the model. Notice that the name of each programming language that we are trying to predict also appears on this list.\n",
    "\n",
    "### Bag of Bigrams Model\n",
    "\n",
    "Next we will make a model that uses how often a set of 2 words, also known as a bigram, appears in each document. We will use the CountVectorizer again to create a sparse matrix containing this information. We then split the data and feed the training set into a Decision Tree Classifier with a max depth of 16, which was determined through tuning on the validation set."
   ]
  },
  {
   "cell_type": "code",
   "execution_count": 28,
   "metadata": {},
   "outputs": [
    {
     "name": "stdout",
     "output_type": "stream",
     "text": [
      "Accuracy Score: 58.13%\n"
     ]
    }
   ],
   "source": [
    "cv = CountVectorizer(ngram_range=(2, 2))\n",
    "X = cv.fit_transform(df.lemmatized)\n",
    "y = df.language\n",
    "\n",
    "X_train, X_test, y_train, y_test = train_test_split(X, y, test_size=.2, random_state=13)\n",
    "X_train, X_val, y_train, y_val = train_test_split(X_train, y_train, test_size = .25, random_state=13)\n",
    "\n",
    "tree = DecisionTreeClassifier(max_depth=16, random_state=13)\n",
    "tree.fit(X_train, y_train)\n",
    "\n",
    "print(f'Accuracy Score: {tree.score(X_val, y_val) * 100:.2f}%')"
   ]
  },
  {
   "cell_type": "markdown",
   "metadata": {},
   "source": [
    "We can see that the model has an accuracy for 58% but let's take a deeper look at the model's performance."
   ]
  },
  {
   "cell_type": "code",
   "execution_count": 29,
   "metadata": {},
   "outputs": [
    {
     "name": "stdout",
     "output_type": "stream",
     "text": [
      "              precision    recall  f1-score   support\n",
      "\n",
      "        Java       1.00      0.53      0.70        45\n",
      "  JavaScript       0.70      0.43      0.54        44\n",
      "         PHP       0.35      0.91      0.51        35\n",
      "      Python       1.00      0.50      0.67        36\n",
      "\n",
      "    accuracy                           0.58       160\n",
      "   macro avg       0.76      0.59      0.60       160\n",
      "weighted avg       0.78      0.58      0.60       160\n",
      "\n"
     ]
    }
   ],
   "source": [
    "preds = tree.predict(X_val)\n",
    "print(classification_report(y_val, preds))"
   ]
  },
  {
   "cell_type": "markdown",
   "metadata": {},
   "source": [
    "Again, let's mainly pay attention to the F1 score here. As we can see the F1 score for each of the categories is very different and it does pretty poor on all of them.\n",
    "\n",
    "Next let's look at the most important words to the model based on feature importance."
   ]
  },
  {
   "cell_type": "code",
   "execution_count": 30,
   "metadata": {},
   "outputs": [
    {
     "data": {
      "text/plain": [
       "pip install                      0.218810\n",
       "npm install                      0.112191\n",
       "apache license                   0.103715\n",
       "composer require                 0.049652\n",
       "project test                     0.040399\n",
       "written python                   0.035551\n",
       "spring boot                      0.034574\n",
       "public void                      0.032845\n",
       "google cloud                     0.032004\n",
       "contributingthank considering    0.030175\n",
       "dtype: float64"
      ]
     },
     "execution_count": 30,
     "metadata": {},
     "output_type": "execute_result"
    }
   ],
   "source": [
    "pd.Series(dict(zip(cv.get_feature_names(), tree.feature_importances_))).sort_values(ascending=False)[:10]"
   ]
  },
  {
   "cell_type": "markdown",
   "metadata": {},
   "source": [
    "Above we are looking we are looking at the 10 most important words for the model. Notice that we still see the word python in there but we also see some common commands like pip install and npm install.\n",
    "\n",
    "### Bag of Trigrams Model\n",
    "\n",
    "Lastly we will make a model that uses how often a set of 3 words, also known as a trigram, appears in each document. We will use the CountVectorizer again to create a sparse matrix containing this information. We then split the data and feed the training set into a Decision Tree Classifier with a max depth of 15, which was determined through tuning on the validation set."
   ]
  },
  {
   "cell_type": "code",
   "execution_count": 31,
   "metadata": {},
   "outputs": [
    {
     "name": "stdout",
     "output_type": "stream",
     "text": [
      "Accuracy Score: 43.75%\n"
     ]
    }
   ],
   "source": [
    "cv = CountVectorizer(ngram_range=(3, 3))\n",
    "X = cv.fit_transform(df.lemmatized)\n",
    "y = df.language\n",
    "\n",
    "X_train, X_test, y_train, y_test = train_test_split(X, y, test_size=.2, random_state=13)\n",
    "X_train, X_val, y_train, y_val = train_test_split(X_train, y_train, test_size = .25, random_state=13)\n",
    "\n",
    "tree = DecisionTreeClassifier(max_depth=15, random_state=13)\n",
    "tree.fit(X_train, y_train)\n",
    "\n",
    "print(f'Accuracy Score: {tree.score(X_val, y_val) * 100:.2f}%')"
   ]
  },
  {
   "cell_type": "markdown",
   "metadata": {},
   "source": [
    "We can see that the model has an accuracy for 44% but let's take a deeper look at the model's performance."
   ]
  },
  {
   "cell_type": "code",
   "execution_count": 32,
   "metadata": {},
   "outputs": [
    {
     "name": "stdout",
     "output_type": "stream",
     "text": [
      "              precision    recall  f1-score   support\n",
      "\n",
      "        Java       1.00      0.24      0.39        45\n",
      "  JavaScript       0.33      0.98      0.49        44\n",
      "         PHP       1.00      0.20      0.33        35\n",
      "      Python       0.90      0.25      0.39        36\n",
      "\n",
      "    accuracy                           0.44       160\n",
      "   macro avg       0.81      0.42      0.40       160\n",
      "weighted avg       0.79      0.44      0.41       160\n",
      "\n"
     ]
    }
   ],
   "source": [
    "preds = tree.predict(X_val)\n",
    "print(classification_report(y_val, preds))"
   ]
  },
  {
   "cell_type": "markdown",
   "metadata": {},
   "source": [
    "Again, let's mainly pay attention to the F1 score here. As we can see the F1 score for each of the categories is very different and it does the worst so far on all of them.\n",
    "\n",
    "Next let's look at the most important words to the model based on feature importance.\n",
    "\n",
    "# Best Model\n",
    "\n",
    "So our best model was the model using the bag of words. It had both the best accuracy and the best F1 score for each category. Now let's see how it does on the test data"
   ]
  },
  {
   "cell_type": "code",
   "execution_count": 33,
   "metadata": {},
   "outputs": [
    {
     "name": "stdout",
     "output_type": "stream",
     "text": [
      "Accuracy Score: 83.12%\n"
     ]
    }
   ],
   "source": [
    "cv = CountVectorizer()\n",
    "X = cv.fit_transform(df.lemmatized)\n",
    "y = df.language\n",
    "\n",
    "X_train, X_test, y_train, y_test = train_test_split(X, y, test_size=.2, random_state=13)\n",
    "X_train, X_val, y_train, y_val = train_test_split(X_train, y_train, test_size = .25, random_state=13)\n",
    "\n",
    "tree = DecisionTreeClassifier(max_depth=10, random_state=13)\n",
    "tree.fit(X_train, y_train)\n",
    "\n",
    "print(f'Accuracy Score: {tree.score(X_val, y_val) * 100:.2f}%')"
   ]
  },
  {
   "cell_type": "code",
   "execution_count": 34,
   "metadata": {},
   "outputs": [
    {
     "name": "stdout",
     "output_type": "stream",
     "text": [
      "              precision    recall  f1-score   support\n",
      "\n",
      "        Java       0.79      0.71      0.75        38\n",
      "  JavaScript       0.58      0.80      0.67        40\n",
      "         PHP       0.91      0.81      0.85        36\n",
      "      Python       0.82      0.70      0.75        46\n",
      "\n",
      "    accuracy                           0.75       160\n",
      "   macro avg       0.78      0.75      0.76       160\n",
      "weighted avg       0.77      0.75      0.75       160\n",
      "\n"
     ]
    }
   ],
   "source": [
    "preds = tree.predict(X_test)\n",
    "print(classification_report(y_test, preds))"
   ]
  },
  {
   "cell_type": "markdown",
   "metadata": {},
   "source": [
    "### Below is the code used to generate the Decision Tree Visual found in the repository; `github-prediction-tree.pdf`."
   ]
  },
  {
   "cell_type": "code",
   "execution_count": 35,
   "metadata": {},
   "outputs": [],
   "source": [
    "# dot_data = export_graphviz(tree, \n",
    "#                            feature_names= cv.get_feature_names(),\n",
    "#                            class_names= ['Java', 'JavaScript', 'PHP', 'Python'],\n",
    "#                            out_file=None) \n",
    "# graph = graphviz.Source(dot_data) \n",
    "\n",
    "# graph.render('github-prediction-tree', view=True)"
   ]
  },
  {
   "cell_type": "markdown",
   "metadata": {},
   "source": [
    "### Now let's make a function that predicts on new readme using all of our data"
   ]
  },
  {
   "cell_type": "code",
   "execution_count": 36,
   "metadata": {},
   "outputs": [],
   "source": [
    "import model"
   ]
  },
  {
   "cell_type": "code",
   "execution_count": 37,
   "metadata": {},
   "outputs": [],
   "source": [
    "tester = '''# snakeware\n",
    "snakeware is a free Linux distro with a Python userspace inspired by the Commodore 64. You are booted directly into a\n",
    "Python interpreter, which you can use to do whatever you want with your computer.\n",
    "\n",
    "Our designated IRC channel is `#snakeware` on `irc.rizon.net`.\n",
    "\n",
    "[Check out our latest demo on YouTube!](https://www.youtube.com/watch?v=spJD7uZAkds)\n",
    "\n",
    "![snakeware/snakewm running in QEMU](screenshot.png)\n",
    "\n",
    "## Motivation\n",
    "The idea is that a Python OS would be fun to use and very easy to contribute to. Even relative beginners might be able\n",
    "to find ways to meaningfully contribute apps and other code to this distro.\n",
    "\n",
    "Our window manager, snakewm, is based on pygame/pygame_gui. We do not use X11; snakewm draws directly to `/dev/fb0`.\n",
    "\n",
    "We also are not going to be using any other huge and opaque software such as systemd, etc. The goal is to eventually\n",
    "have a usable set of userspace apps and utilities written entirely in Python, because Python is fun and it Just Werks™.\n",
    "\n",
    "## Running\n",
    "[Download the latest release image.](https://github.com/joshiemoore/snakeware/releases)\n",
    "\n",
    "You can burn the image file to a flash drive and boot it. Instructions to run it on QEMU are below.\n",
    "\n",
    "\n",
    "### QEMU\n",
    "\n",
    "To run it snakeware on QEMU:\n",
    "\n",
    "1. [Download and Install QEMU](https://www.qemu.org/download/). Supports Linux, OSX, and Windows.\n",
    "2. Open your terminal/command prompt.\n",
    "3. Navigate to the directory/folder where the snakeware image image was downloaded.\n",
    "4. Run the command: `qemu-system-x86_64 -drive format=raw,file=snakeware.img -m 2048 -soundhw hda -audiodev id=pa,driver=pa`\n",
    "5. Wait for it to load.\n",
    "6. You will be be taken to a Python environment/shell.\n",
    "7. Launch snakewm with the following Python command:\n",
    "\n",
    "```\n",
    ">>> from snakewm.wm import SnakeWM\n",
    ">>> SnakeWM().run()\n",
    "```\n",
    "8. To open the app menu press the left WinKey (Left CMD key ⌘ on macOS).\n",
    "\n",
    "\n",
    "## Building\n",
    "The snakeware build system is based on buildroot. See the `snakeware/` directory in this repo for resources and\n",
    "documentation on how to build your own snakeware distro image.\n",
    "\n",
    "**NOTE:** If you are only contributing apps or other code to snakewm, you don't need to build a whole snakeware distro \n",
    "image to test your changes. Simply make your changes to snakewm then run `sudo python wm.py` in the `snakewm/` \n",
    "directory. snakewm will then start drawing itself directly to the framebuffer and you can test out your changes. \n",
    "Press `ALT+ESC` to return to your normal desktop. (It would still be good to test your changes in an actual\n",
    "snakeware environment though.)\n",
    "\n",
    "## Contributing\n",
    "Developers of all experience levels are welcome and encouraged to contribute to snakeware. Python enthusiasts that are\n",
    "familiar with pygame and pygame_gui will be able to write their own snakeware apps very easily. See existing apps\n",
    "in `snakewm/apps/` for examples of how to get started, and feel free to ask questions if you need help.\n",
    "\n",
    "Those with experience building Linux systems are encouraged to contribute to the underlying aspects of the distro,\n",
    "such as the build/package scripts and configuration for the kernel, GRUB, etc. The build system is currently not\n",
    "very streamlined or robust, and I am sure that there are better ways to do a lot of it.\n",
    "\n",
    "I would also like to eventually stop using Busybox for intialization and find a way to perform all necessary init from\n",
    "the Python environment, so ideas about that are welcome.\n",
    "\n",
    "## TODO\n",
    "This is an abridged list of future plans:\n",
    "\n",
    "* Raspberry Pi configs for buildroot and kernel!!!!!!!\n",
    "* Fix pip module installation - won't work when cross-compiling\n",
    "* Many more snakewm apps\n",
    "* ~~App menu for choosing apps to run~~\n",
    "* ~~Improved/streamlined build system~~\n",
    "* Improved kernel config\n",
    "* snake-games - full-screen user games separate from SnakeWM\n",
    "* ~~Modify partition scheme for faster boot - /usr on its own partition?~~\n",
    "* Take advantage of pygame_gui's theme functionality\n",
    "* ~~Dynamic/interactive desktop backgrounds~~\n",
    "* ~~Sound support~~\n",
    "* Networking -> web browser\n",
    "    + snakechat - chat with everyone else who's using snakeware\n",
    "    + Gopher client?\n",
    "* Ditch busybox, init via Python somehow\n",
    "* ...\n",
    "'''"
   ]
  },
  {
   "cell_type": "code",
   "execution_count": 38,
   "metadata": {},
   "outputs": [
    {
     "data": {
      "text/plain": [
       "array(['Python'], dtype=object)"
      ]
     },
     "execution_count": 38,
     "metadata": {},
     "output_type": "execute_result"
    }
   ],
   "source": [
    "model.predict_readme_language(tester)"
   ]
  },
  {
   "cell_type": "markdown",
   "metadata": {},
   "source": [
    "#### And a nice little cherry on top because it is right on this one."
   ]
  }
 ],
 "metadata": {
  "kernelspec": {
   "display_name": "Python 3",
   "language": "python",
   "name": "python3"
  },
  "language_info": {
   "codemirror_mode": {
    "name": "ipython",
    "version": 3
   },
   "file_extension": ".py",
   "mimetype": "text/x-python",
   "name": "python",
   "nbconvert_exporter": "python",
   "pygments_lexer": "ipython3",
   "version": "3.7.4"
  }
 },
 "nbformat": 4,
 "nbformat_minor": 4
}
